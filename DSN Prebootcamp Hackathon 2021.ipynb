{
    "cells": [
        {
            "cell_type": "code",
            "execution_count": 3,
            "metadata": {},
            "outputs": [],
            "source": "# The code was removed by Watson Studio for sharing."
        },
        {
            "cell_type": "code",
            "execution_count": 2,
            "metadata": {},
            "outputs": [],
            "source": "import numpy as np\nimport pandas as pd\n\nfrom sklearn import preprocessing"
        },
        {
            "cell_type": "code",
            "execution_count": 4,
            "metadata": {
                "scrolled": true
            },
            "outputs": [
                {
                    "data": {
                        "text/html": "<div>\n<style scoped>\n    .dataframe tbody tr th:only-of-type {\n        vertical-align: middle;\n    }\n\n    .dataframe tbody tr th {\n        vertical-align: top;\n    }\n\n    .dataframe thead th {\n        text-align: right;\n    }\n</style>\n<table border=\"1\" class=\"dataframe\">\n  <thead>\n    <tr style=\"text-align: right;\">\n      <th></th>\n      <th>Customer_ID</th>\n      <th>Sex</th>\n      <th>Earnings</th>\n      <th>Region_Code</th>\n      <th>Marital Status</th>\n      <th>State_of_Origin</th>\n      <th>Customer_Worth</th>\n      <th>Customer_Reply</th>\n      <th>Plan</th>\n      <th>Certification</th>\n      <th>Effective To Date</th>\n      <th>Status_of_Employment</th>\n      <th>Premium_Auto_per_Month</th>\n      <th>Total Claim Amount</th>\n      <th>Vehicle Class</th>\n      <th>Vehicle Size</th>\n      <th>Months Since Last Claim</th>\n      <th>Months Since Policy Inception</th>\n      <th>Counts_of_Open_Complaints</th>\n      <th>No_Of_POlicy</th>\n      <th>kind_of_policy</th>\n      <th>Active_Policy</th>\n      <th>Sales Channel</th>\n      <th>Best_Offer</th>\n    </tr>\n  </thead>\n  <tbody>\n    <tr>\n      <th>0</th>\n      <td>Customer_434</td>\n      <td>Female</td>\n      <td>97134</td>\n      <td>Suburban</td>\n      <td>Single</td>\n      <td>Kano</td>\n      <td>5017.009472</td>\n      <td>Interested</td>\n      <td>Silver</td>\n      <td>First_Degree</td>\n      <td>3/2/2011</td>\n      <td>Fully_Employed</td>\n      <td>260</td>\n      <td>624.000000</td>\n      <td>SUV</td>\n      <td>Medsize</td>\n      <td>12</td>\n      <td>15</td>\n      <td>0</td>\n      <td>1</td>\n      <td>Corporate</td>\n      <td>C_L2</td>\n      <td>Agent</td>\n      <td>1</td>\n    </tr>\n    <tr>\n      <th>1</th>\n      <td>Customer_4641</td>\n      <td>Female</td>\n      <td>53754</td>\n      <td>Suburban</td>\n      <td>Married</td>\n      <td>Abuja</td>\n      <td>5151.301306</td>\n      <td>Not_interested</td>\n      <td>Silver</td>\n      <td>First_Degree</td>\n      <td>1/22/11</td>\n      <td>Fully_Employed</td>\n      <td>262</td>\n      <td>628.800000</td>\n      <td>SUV</td>\n      <td>Small</td>\n      <td>5</td>\n      <td>2</td>\n      <td>0</td>\n      <td>1</td>\n      <td>Personal</td>\n      <td>P_L2</td>\n      <td>Agent</td>\n      <td>3</td>\n    </tr>\n    <tr>\n      <th>2</th>\n      <td>Customer_4952</td>\n      <td>Female</td>\n      <td>25804</td>\n      <td>Suburban</td>\n      <td>Divorced</td>\n      <td>Lagos</td>\n      <td>4906.894731</td>\n      <td>Interested</td>\n      <td>Silver</td>\n      <td>HND</td>\n      <td>2/14/11</td>\n      <td>In_Retirement</td>\n      <td>278</td>\n      <td>667.200000</td>\n      <td>Sports Car</td>\n      <td>Medsize</td>\n      <td>3</td>\n      <td>51</td>\n      <td>0</td>\n      <td>1</td>\n      <td>Personal</td>\n      <td>P_L3</td>\n      <td>Agent</td>\n      <td>0</td>\n    </tr>\n    <tr>\n      <th>3</th>\n      <td>Customer_1489</td>\n      <td>Female</td>\n      <td>0</td>\n      <td>Suburban</td>\n      <td>Single</td>\n      <td>Imo</td>\n      <td>8512.525936</td>\n      <td>Not_interested</td>\n      <td>Silver</td>\n      <td>HND</td>\n      <td>8/1/2011</td>\n      <td>Not_employed</td>\n      <td>242</td>\n      <td>871.200000</td>\n      <td>Sports Car</td>\n      <td>Medsize</td>\n      <td>5</td>\n      <td>94</td>\n      <td>0</td>\n      <td>8</td>\n      <td>Personal</td>\n      <td>P_L2</td>\n      <td>Branch</td>\n      <td>1</td>\n    </tr>\n    <tr>\n      <th>4</th>\n      <td>Customer_812</td>\n      <td>Male</td>\n      <td>140494</td>\n      <td>Rural</td>\n      <td>Single</td>\n      <td>Imo</td>\n      <td>3280.531880</td>\n      <td>Not_interested</td>\n      <td>Silver</td>\n      <td>PHD</td>\n      <td>2/19/11</td>\n      <td>Fully_Employed</td>\n      <td>166</td>\n      <td>141.799422</td>\n      <td>Four-Door Car</td>\n      <td>Medsize</td>\n      <td>13</td>\n      <td>19</td>\n      <td>2</td>\n      <td>1</td>\n      <td>Personal</td>\n      <td>P_L2</td>\n      <td>Call Center</td>\n      <td>3</td>\n    </tr>\n  </tbody>\n</table>\n</div>",
                        "text/plain": "     Customer_ID     Sex  Earnings Region_Code Marital Status State_of_Origin  \\\n0   Customer_434  Female     97134    Suburban         Single            Kano   \n1  Customer_4641  Female     53754    Suburban        Married           Abuja   \n2  Customer_4952  Female     25804    Suburban       Divorced           Lagos   \n3  Customer_1489  Female         0    Suburban         Single             Imo   \n4   Customer_812    Male    140494       Rural         Single             Imo   \n\n   Customer_Worth  Customer_Reply    Plan Certification Effective To Date  \\\n0     5017.009472      Interested  Silver  First_Degree          3/2/2011   \n1     5151.301306  Not_interested  Silver  First_Degree           1/22/11   \n2     4906.894731      Interested  Silver           HND           2/14/11   \n3     8512.525936  Not_interested  Silver           HND          8/1/2011   \n4     3280.531880  Not_interested  Silver           PHD           2/19/11   \n\n  Status_of_Employment  Premium_Auto_per_Month  Total Claim Amount  \\\n0       Fully_Employed                     260          624.000000   \n1       Fully_Employed                     262          628.800000   \n2        In_Retirement                     278          667.200000   \n3         Not_employed                     242          871.200000   \n4       Fully_Employed                     166          141.799422   \n\n   Vehicle Class Vehicle Size  Months Since Last Claim  \\\n0            SUV      Medsize                       12   \n1            SUV        Small                        5   \n2     Sports Car      Medsize                        3   \n3     Sports Car      Medsize                        5   \n4  Four-Door Car      Medsize                       13   \n\n   Months Since Policy Inception  Counts_of_Open_Complaints  No_Of_POlicy  \\\n0                             15                          0             1   \n1                              2                          0             1   \n2                             51                          0             1   \n3                             94                          0             8   \n4                             19                          2             1   \n\n  kind_of_policy Active_Policy Sales Channel  Best_Offer  \n0      Corporate          C_L2         Agent           1  \n1       Personal          P_L2         Agent           3  \n2       Personal          P_L3         Agent           0  \n3       Personal          P_L2        Branch           1  \n4       Personal          P_L2   Call Center           3  "
                    },
                    "execution_count": 4,
                    "metadata": {},
                    "output_type": "execute_result"
                }
            ],
            "source": "# The code was removed by Watson Studio for sharing."
        },
        {
            "cell_type": "markdown",
            "metadata": {},
            "source": "# VIBR2 PREPARATION (START)"
        },
        {
            "cell_type": "code",
            "execution_count": 11,
            "metadata": {},
            "outputs": [
                {
                    "data": {
                        "text/html": "<div>\n<style scoped>\n    .dataframe tbody tr th:only-of-type {\n        vertical-align: middle;\n    }\n\n    .dataframe tbody tr th {\n        vertical-align: top;\n    }\n\n    .dataframe thead th {\n        text-align: right;\n    }\n</style>\n<table border=\"1\" class=\"dataframe\">\n  <thead>\n    <tr style=\"text-align: right;\">\n      <th></th>\n      <th>Marital Status</th>\n      <th>Customer_Worth</th>\n      <th>Customer_Reply</th>\n      <th>Status_of_Employment</th>\n      <th>No_Of_POlicy</th>\n      <th>Sales Channel</th>\n    </tr>\n  </thead>\n  <tbody>\n    <tr>\n      <th>0</th>\n      <td>Single</td>\n      <td>5017.009472</td>\n      <td>Interested</td>\n      <td>Fully_Employed</td>\n      <td>1</td>\n      <td>Agent</td>\n    </tr>\n    <tr>\n      <th>1</th>\n      <td>Married</td>\n      <td>5151.301306</td>\n      <td>Not_interested</td>\n      <td>Fully_Employed</td>\n      <td>1</td>\n      <td>Agent</td>\n    </tr>\n    <tr>\n      <th>2</th>\n      <td>Divorced</td>\n      <td>4906.894731</td>\n      <td>Interested</td>\n      <td>In_Retirement</td>\n      <td>1</td>\n      <td>Agent</td>\n    </tr>\n    <tr>\n      <th>3</th>\n      <td>Single</td>\n      <td>8512.525936</td>\n      <td>Not_interested</td>\n      <td>Not_employed</td>\n      <td>8</td>\n      <td>Branch</td>\n    </tr>\n    <tr>\n      <th>4</th>\n      <td>Single</td>\n      <td>3280.531880</td>\n      <td>Not_interested</td>\n      <td>Fully_Employed</td>\n      <td>1</td>\n      <td>Call Center</td>\n    </tr>\n  </tbody>\n</table>\n</div>",
                        "text/plain": "  Marital Status  Customer_Worth  Customer_Reply Status_of_Employment  \\\n0         Single     5017.009472      Interested       Fully_Employed   \n1        Married     5151.301306  Not_interested       Fully_Employed   \n2       Divorced     4906.894731      Interested        In_Retirement   \n3         Single     8512.525936  Not_interested         Not_employed   \n4         Single     3280.531880  Not_interested       Fully_Employed   \n\n   No_Of_POlicy Sales Channel  \n0             1         Agent  \n1             1         Agent  \n2             1         Agent  \n3             8        Branch  \n4             1   Call Center  "
                    },
                    "execution_count": 11,
                    "metadata": {},
                    "output_type": "execute_result"
                }
            ],
            "source": "vibr2 = vibr[['Marital Status', 'Customer_Worth', 'Customer_Reply', 'Status_of_Employment','No_Of_POlicy','Sales Channel']]\nvibr2.head()"
        },
        {
            "cell_type": "code",
            "execution_count": 12,
            "metadata": {},
            "outputs": [],
            "source": "dummy_variable_2 = pd.get_dummies(vibr2[\"Customer_Reply\"])\ndummy_variable_1 = pd.get_dummies(vibr2[\"Marital Status\"])\ndummy_variable_3 = pd.get_dummies(vibr2[\"Status_of_Employment\"])\ndummy_variable_4 = pd.get_dummies(vibr2[\"Sales Channel\"])\n"
        },
        {
            "cell_type": "code",
            "execution_count": 13,
            "metadata": {},
            "outputs": [],
            "source": "vibr2 = pd.concat([vibr2, dummy_variable_1], axis=1)\nvibr2 = pd.concat([vibr2, dummy_variable_2], axis=1)\nvibr2 = pd.concat([vibr2, dummy_variable_3], axis=1)\nvibr2 = pd.concat([vibr2, dummy_variable_4], axis=1)\n\nvibr2.drop(\"Customer_Reply\", axis = 1, inplace=True)\nvibr2.drop(\"Sales Channel\", axis = 1, inplace=True)\nvibr2.drop(\"Status_of_Employment\", axis = 1, inplace=True)\nvibr2.drop(\"Marital Status\", axis = 1, inplace=True)"
        },
        {
            "cell_type": "code",
            "execution_count": 14,
            "metadata": {},
            "outputs": [
                {
                    "data": {
                        "text/html": "<div>\n<style scoped>\n    .dataframe tbody tr th:only-of-type {\n        vertical-align: middle;\n    }\n\n    .dataframe tbody tr th {\n        vertical-align: top;\n    }\n\n    .dataframe thead th {\n        text-align: right;\n    }\n</style>\n<table border=\"1\" class=\"dataframe\">\n  <thead>\n    <tr style=\"text-align: right;\">\n      <th></th>\n      <th>Customer_Worth</th>\n      <th>No_Of_POlicy</th>\n      <th>Divorced</th>\n      <th>Married</th>\n      <th>Single</th>\n      <th>Interested</th>\n      <th>Not_interested</th>\n      <th>Disabled</th>\n      <th>Fully_Employed</th>\n      <th>In_Retirement</th>\n      <th>Not_employed</th>\n      <th>On_Leave</th>\n      <th>Agent</th>\n      <th>Branch</th>\n      <th>Call Center</th>\n      <th>Web</th>\n    </tr>\n  </thead>\n  <tbody>\n    <tr>\n      <th>0</th>\n      <td>5017.009472</td>\n      <td>1</td>\n      <td>0</td>\n      <td>0</td>\n      <td>1</td>\n      <td>1</td>\n      <td>0</td>\n      <td>0</td>\n      <td>1</td>\n      <td>0</td>\n      <td>0</td>\n      <td>0</td>\n      <td>1</td>\n      <td>0</td>\n      <td>0</td>\n      <td>0</td>\n    </tr>\n    <tr>\n      <th>1</th>\n      <td>5151.301306</td>\n      <td>1</td>\n      <td>0</td>\n      <td>1</td>\n      <td>0</td>\n      <td>0</td>\n      <td>1</td>\n      <td>0</td>\n      <td>1</td>\n      <td>0</td>\n      <td>0</td>\n      <td>0</td>\n      <td>1</td>\n      <td>0</td>\n      <td>0</td>\n      <td>0</td>\n    </tr>\n    <tr>\n      <th>2</th>\n      <td>4906.894731</td>\n      <td>1</td>\n      <td>1</td>\n      <td>0</td>\n      <td>0</td>\n      <td>1</td>\n      <td>0</td>\n      <td>0</td>\n      <td>0</td>\n      <td>1</td>\n      <td>0</td>\n      <td>0</td>\n      <td>1</td>\n      <td>0</td>\n      <td>0</td>\n      <td>0</td>\n    </tr>\n    <tr>\n      <th>3</th>\n      <td>8512.525936</td>\n      <td>8</td>\n      <td>0</td>\n      <td>0</td>\n      <td>1</td>\n      <td>0</td>\n      <td>1</td>\n      <td>0</td>\n      <td>0</td>\n      <td>0</td>\n      <td>1</td>\n      <td>0</td>\n      <td>0</td>\n      <td>1</td>\n      <td>0</td>\n      <td>0</td>\n    </tr>\n    <tr>\n      <th>4</th>\n      <td>3280.531880</td>\n      <td>1</td>\n      <td>0</td>\n      <td>0</td>\n      <td>1</td>\n      <td>0</td>\n      <td>1</td>\n      <td>0</td>\n      <td>1</td>\n      <td>0</td>\n      <td>0</td>\n      <td>0</td>\n      <td>0</td>\n      <td>0</td>\n      <td>1</td>\n      <td>0</td>\n    </tr>\n  </tbody>\n</table>\n</div>",
                        "text/plain": "   Customer_Worth  No_Of_POlicy  Divorced  Married  Single  Interested  \\\n0     5017.009472             1         0        0       1           1   \n1     5151.301306             1         0        1       0           0   \n2     4906.894731             1         1        0       0           1   \n3     8512.525936             8         0        0       1           0   \n4     3280.531880             1         0        0       1           0   \n\n   Not_interested  Disabled  Fully_Employed  In_Retirement  Not_employed  \\\n0               0         0               1              0             0   \n1               1         0               1              0             0   \n2               0         0               0              1             0   \n3               1         0               0              0             1   \n4               1         0               1              0             0   \n\n   On_Leave  Agent  Branch  Call Center  Web  \n0         0      1       0            0    0  \n1         0      1       0            0    0  \n2         0      1       0            0    0  \n3         0      0       1            0    0  \n4         0      0       0            1    0  "
                    },
                    "execution_count": 14,
                    "metadata": {},
                    "output_type": "execute_result"
                }
            ],
            "source": "vibr2.head()"
        },
        {
            "cell_type": "markdown",
            "metadata": {},
            "source": "# VIBR2 PREPARATION (END)"
        },
        {
            "cell_type": "markdown",
            "metadata": {},
            "source": "# VIBR2 MODELING"
        },
        {
            "cell_type": "code",
            "execution_count": 15,
            "metadata": {},
            "outputs": [
                {
                    "data": {
                        "text/plain": "array([[5.01700947e+03, 1.00000000e+00, 0.00000000e+00, 0.00000000e+00,\n        1.00000000e+00, 1.00000000e+00, 0.00000000e+00, 0.00000000e+00,\n        1.00000000e+00, 0.00000000e+00, 0.00000000e+00, 0.00000000e+00,\n        1.00000000e+00, 0.00000000e+00, 0.00000000e+00, 0.00000000e+00],\n       [5.15130131e+03, 1.00000000e+00, 0.00000000e+00, 1.00000000e+00,\n        0.00000000e+00, 0.00000000e+00, 1.00000000e+00, 0.00000000e+00,\n        1.00000000e+00, 0.00000000e+00, 0.00000000e+00, 0.00000000e+00,\n        1.00000000e+00, 0.00000000e+00, 0.00000000e+00, 0.00000000e+00]])"
                    },
                    "execution_count": 15,
                    "metadata": {},
                    "output_type": "execute_result"
                }
            ],
            "source": "X = vibr2.to_numpy()\nX[0:2]"
        },
        {
            "cell_type": "code",
            "execution_count": 20,
            "metadata": {},
            "outputs": [
                {
                    "data": {
                        "text/plain": "array([1, 3, 0, 1, 3])"
                    },
                    "execution_count": 20,
                    "metadata": {},
                    "output_type": "execute_result"
                }
            ],
            "source": "y = vibr['Best_Offer'].values\ny[0:5]"
        },
        {
            "cell_type": "code",
            "execution_count": 19,
            "metadata": {
                "scrolled": true
            },
            "outputs": [
                {
                    "data": {
                        "text/plain": "array([[-0.44075639, -0.82790025, -0.42446852, -1.18540789,  1.67356874,\n         2.47209116, -2.47209116, -0.21994662,  0.77217529, -0.18201274,\n        -0.57391847, -0.22344148,  1.27409079, -0.62190666, -0.49226429,\n        -0.41155791],\n       [-0.42076609, -0.82790025, -0.42446852,  0.84359148, -0.5975255 ,\n        -0.40451583,  0.40451583, -0.21994662,  0.77217529, -0.18201274,\n        -0.57391847, -0.22344148,  1.27409079, -0.62190666, -0.49226429,\n        -0.41155791]])"
                    },
                    "execution_count": 19,
                    "metadata": {},
                    "output_type": "execute_result"
                }
            ],
            "source": "X = preprocessing.StandardScaler().fit(X).transform(X.astype(float))\nX[0:2]"
        },
        {
            "cell_type": "code",
            "execution_count": 33,
            "metadata": {},
            "outputs": [
                {
                    "name": "stdout",
                    "output_type": "stream",
                    "text": "Train set: (5114, 16) (5114,)\nTest set: (1279, 16) (1279,)\n"
                }
            ],
            "source": "from sklearn.model_selection import train_test_split\nX_train, X_test, y_train, y_test = train_test_split( X, y, test_size=0.2, random_state=4)\nprint ('Train set:', X_train.shape,  y_train.shape)\nprint ('Test set:', X_test.shape,  y_test.shape)"
        },
        {
            "cell_type": "code",
            "execution_count": 17,
            "metadata": {},
            "outputs": [],
            "source": "from sklearn.neighbors import KNeighborsClassifier"
        },
        {
            "cell_type": "code",
            "execution_count": 18,
            "metadata": {},
            "outputs": [],
            "source": "from sklearn import metrics"
        },
        {
            "cell_type": "code",
            "execution_count": 36,
            "metadata": {},
            "outputs": [
                {
                    "data": {
                        "text/plain": "array([0.42220485, 0.45426114, 0.45269742, 0.45191556, 0.45895231,\n       0.45660672, 0.45660672, 0.45660672, 0.45582486, 0.455043  ,\n       0.46051603, 0.45347928, 0.45191556, 0.45347928, 0.44722439,\n       0.44487881, 0.44487881, 0.45035184, 0.45269742, 0.4511337 ,\n       0.45660672, 0.45738858, 0.45895231, 0.45191556, 0.45817045,\n       0.45191556, 0.45660672, 0.44722439, 0.44566067, 0.44018765,\n       0.43393276, 0.43549648, 0.44331509, 0.43784206, 0.44175137,\n       0.44331509, 0.44096951, 0.43784206, 0.44018765, 0.44253323,\n       0.44331509, 0.43940579, 0.44018765, 0.44331509, 0.43940579,\n       0.43627834, 0.4370602 , 0.43002346, 0.43784206, 0.4370602 ,\n       0.44018765, 0.44253323, 0.44175137, 0.44175137, 0.44409695,\n       0.44018765, 0.44331509, 0.44096951, 0.44253323, 0.43627834,\n       0.44175137, 0.43940579, 0.43784206, 0.43862392, 0.43080532,\n       0.43236904, 0.43627834, 0.43393276, 0.43627834, 0.43862392,\n       0.4331509 , 0.43158718, 0.43080532, 0.43002346, 0.43158718,\n       0.43158718, 0.43158718, 0.43002346, 0.43393276, 0.43471462,\n       0.43393276, 0.43549648, 0.44175137, 0.44175137, 0.43862392,\n       0.44487881, 0.44175137, 0.44253323, 0.44566067, 0.44175137,\n       0.44175137, 0.44409695, 0.44566067, 0.44487881, 0.44566067,\n       0.44487881, 0.44331509, 0.44096951, 0.44175137, 0.44487881,\n       0.44331509, 0.44487881, 0.44566067, 0.44487881, 0.44409695,\n       0.44253323, 0.44331509, 0.44331509, 0.44331509, 0.44644253,\n       0.44566067, 0.44409695, 0.44331509, 0.44096951, 0.43940579,\n       0.44253323, 0.44409695, 0.44331509, 0.44175137, 0.44253323,\n       0.44096951, 0.44253323, 0.44409695, 0.44566067, 0.44487881,\n       0.44096951, 0.43940579, 0.44253323, 0.44253323, 0.44331509,\n       0.44487881, 0.44018765, 0.44253323, 0.44175137, 0.44175137,\n       0.44096951, 0.44331509, 0.44175137, 0.44253323, 0.44018765,\n       0.44253323, 0.44175137, 0.44253323, 0.44096951, 0.44018765,\n       0.43784206, 0.44487881, 0.44566067, 0.44331509, 0.43940579,\n       0.44253323, 0.44409695, 0.44331509, 0.44409695, 0.44644253,\n       0.44409695, 0.44800625, 0.44644253, 0.4511337 , 0.45035184,\n       0.45035184, 0.45347928, 0.45347928, 0.45269742, 0.45347928,\n       0.45582486, 0.45347928, 0.45191556, 0.45582486, 0.45660672,\n       0.45347928, 0.45582486, 0.45347928, 0.45035184, 0.44800625,\n       0.44409695, 0.44566067, 0.44487881, 0.44722439, 0.44644253,\n       0.44722439, 0.44800625, 0.44956998, 0.44956998, 0.44800625,\n       0.44722439, 0.44566067, 0.44878812, 0.44878812, 0.44800625,\n       0.44878812, 0.44644253, 0.44409695, 0.44331509, 0.44487881,\n       0.44409695, 0.44096951, 0.44018765, 0.43940579])"
                    },
                    "execution_count": 36,
                    "metadata": {},
                    "output_type": "execute_result"
                }
            ],
            "source": "Ks = 200\nmean_acc = np.zeros((Ks-1))\nstd_acc = np.zeros((Ks-1))\n\nfor n in range(1,Ks):\n    \n     \n    MyLady = KNeighborsClassifier(n_neighbors = n).fit(X_train,y_train)\n    yhat=MyLady.predict(X_test)\n    mean_acc[n-1] = metrics.accuracy_score(y_test, yhat)\n\n    \n    std_acc[n-1]=np.std(yhat==y_test)/np.sqrt(yhat.shape[0])\n\nmean_acc"
        },
        {
            "cell_type": "code",
            "execution_count": 37,
            "metadata": {},
            "outputs": [
                {
                    "name": "stdout",
                    "output_type": "stream",
                    "text": "The best accuracy was with 0.46051602814698983 with k= 11\n"
                }
            ],
            "source": "print( \"The best accuracy was with\", mean_acc.max(), \"with k=\", mean_acc.argmax()+1)"
        },
        {
            "cell_type": "code",
            "execution_count": 21,
            "metadata": {},
            "outputs": [],
            "source": "k = 79\nMyLady = KNeighborsClassifier(n_neighbors = k).fit(X,y)"
        },
        {
            "cell_type": "code",
            "execution_count": 25,
            "metadata": {
                "scrolled": true
            },
            "outputs": [
                {
                    "data": {
                        "text/html": "<div>\n<style scoped>\n    .dataframe tbody tr th:only-of-type {\n        vertical-align: middle;\n    }\n\n    .dataframe tbody tr th {\n        vertical-align: top;\n    }\n\n    .dataframe thead th {\n        text-align: right;\n    }\n</style>\n<table border=\"1\" class=\"dataframe\">\n  <thead>\n    <tr style=\"text-align: right;\">\n      <th></th>\n      <th>Customer_ID</th>\n      <th>Sex</th>\n      <th>Earnings</th>\n      <th>Region_Code</th>\n      <th>Marital Status</th>\n      <th>State_of_Origin</th>\n      <th>Customer_Worth</th>\n      <th>Customer_Reply</th>\n      <th>Plan</th>\n      <th>Certification</th>\n      <th>Effective To Date</th>\n      <th>Status_of_Employment</th>\n      <th>Premium_Auto_per_Month</th>\n      <th>Total Claim Amount</th>\n      <th>Vehicle Class</th>\n      <th>Vehicle Size</th>\n      <th>Months Since Last Claim</th>\n      <th>Months Since Policy Inception</th>\n      <th>Counts_of_Open_Complaints</th>\n      <th>No_Of_POlicy</th>\n      <th>kind_of_policy</th>\n      <th>Active_Policy</th>\n      <th>Sales Channel</th>\n    </tr>\n  </thead>\n  <tbody>\n    <tr>\n      <th>0</th>\n      <td>Customer_708</td>\n      <td>Male</td>\n      <td>149170</td>\n      <td>Rural</td>\n      <td>Married</td>\n      <td>Lagos</td>\n      <td>4224.631209</td>\n      <td>Not_interested</td>\n      <td>Bronze</td>\n      <td>O_Level</td>\n      <td>1/17/11</td>\n      <td>Fully_Employed</td>\n      <td>212</td>\n      <td>218.598065</td>\n      <td>SUV</td>\n      <td>Medsize</td>\n      <td>1</td>\n      <td>49</td>\n      <td>0</td>\n      <td>1</td>\n      <td>Personal</td>\n      <td>P_L3</td>\n      <td>Agent</td>\n    </tr>\n    <tr>\n      <th>1</th>\n      <td>Customer_47</td>\n      <td>Female</td>\n      <td>46436</td>\n      <td>Suburban</td>\n      <td>Single</td>\n      <td>Abuja</td>\n      <td>5516.344018</td>\n      <td>Not_interested</td>\n      <td>Bronze</td>\n      <td>O_Level</td>\n      <td>2/1/2011</td>\n      <td>Fully_Employed</td>\n      <td>142</td>\n      <td>447.793440</td>\n      <td>Two-Door Car</td>\n      <td>Medsize</td>\n      <td>7</td>\n      <td>10</td>\n      <td>0</td>\n      <td>4</td>\n      <td>Personal</td>\n      <td>P_L2</td>\n      <td>Agent</td>\n    </tr>\n    <tr>\n      <th>2</th>\n      <td>Customer_3995</td>\n      <td>Female</td>\n      <td>189806</td>\n      <td>Suburban</td>\n      <td>Married</td>\n      <td>Abuja</td>\n      <td>3810.122147</td>\n      <td>Interested</td>\n      <td>Silver</td>\n      <td>HND</td>\n      <td>1/28/11</td>\n      <td>Fully_Employed</td>\n      <td>188</td>\n      <td>451.200000</td>\n      <td>Two-Door Car</td>\n      <td>Small</td>\n      <td>3</td>\n      <td>38</td>\n      <td>0</td>\n      <td>1</td>\n      <td>Personal</td>\n      <td>P_L3</td>\n      <td>Agent</td>\n    </tr>\n    <tr>\n      <th>3</th>\n      <td>Customer_1513</td>\n      <td>Female</td>\n      <td>154306</td>\n      <td>Urban</td>\n      <td>Married</td>\n      <td>Lagos</td>\n      <td>7916.823110</td>\n      <td>Not_interested</td>\n      <td>Silver</td>\n      <td>HND</td>\n      <td>9/2/2011</td>\n      <td>Fully_Employed</td>\n      <td>198</td>\n      <td>355.641958</td>\n      <td>Four-Door Car</td>\n      <td>Medsize</td>\n      <td>3</td>\n      <td>27</td>\n      <td>2</td>\n      <td>5</td>\n      <td>Personal</td>\n      <td>P_L3</td>\n      <td>Branch</td>\n    </tr>\n    <tr>\n      <th>4</th>\n      <td>Customer_3686</td>\n      <td>Female</td>\n      <td>47538</td>\n      <td>Suburban</td>\n      <td>Divorced</td>\n      <td>Kano</td>\n      <td>7933.722181</td>\n      <td>Not_interested</td>\n      <td>Bronze</td>\n      <td>O_Level</td>\n      <td>2/20/11</td>\n      <td>Disabled</td>\n      <td>138</td>\n      <td>470.097411</td>\n      <td>Four-Door Car</td>\n      <td>Medsize</td>\n      <td>18</td>\n      <td>14</td>\n      <td>0</td>\n      <td>2</td>\n      <td>Personal</td>\n      <td>P_L2</td>\n      <td>Branch</td>\n    </tr>\n  </tbody>\n</table>\n</div>",
                        "text/plain": "     Customer_ID     Sex  Earnings Region_Code Marital Status State_of_Origin  \\\n0   Customer_708    Male    149170       Rural        Married           Lagos   \n1    Customer_47  Female     46436    Suburban         Single           Abuja   \n2  Customer_3995  Female    189806    Suburban        Married           Abuja   \n3  Customer_1513  Female    154306       Urban        Married           Lagos   \n4  Customer_3686  Female     47538    Suburban       Divorced            Kano   \n\n   Customer_Worth  Customer_Reply    Plan Certification Effective To Date  \\\n0     4224.631209  Not_interested  Bronze       O_Level           1/17/11   \n1     5516.344018  Not_interested  Bronze       O_Level          2/1/2011   \n2     3810.122147      Interested  Silver           HND           1/28/11   \n3     7916.823110  Not_interested  Silver           HND          9/2/2011   \n4     7933.722181  Not_interested  Bronze       O_Level           2/20/11   \n\n  Status_of_Employment  Premium_Auto_per_Month  Total Claim Amount  \\\n0       Fully_Employed                     212          218.598065   \n1       Fully_Employed                     142          447.793440   \n2       Fully_Employed                     188          451.200000   \n3       Fully_Employed                     198          355.641958   \n4             Disabled                     138          470.097411   \n\n   Vehicle Class Vehicle Size  Months Since Last Claim  \\\n0            SUV      Medsize                        1   \n1   Two-Door Car      Medsize                        7   \n2   Two-Door Car        Small                        3   \n3  Four-Door Car      Medsize                        3   \n4  Four-Door Car      Medsize                       18   \n\n   Months Since Policy Inception  Counts_of_Open_Complaints  No_Of_POlicy  \\\n0                             49                          0             1   \n1                             10                          0             4   \n2                             38                          0             1   \n3                             27                          2             5   \n4                             14                          0             2   \n\n  kind_of_policy Active_Policy Sales Channel  \n0       Personal          P_L3         Agent  \n1       Personal          P_L2         Agent  \n2       Personal          P_L3         Agent  \n3       Personal          P_L3        Branch  \n4       Personal          P_L2        Branch  "
                    },
                    "execution_count": 25,
                    "metadata": {},
                    "output_type": "execute_result"
                }
            ],
            "source": "\nbody = client_02094e32b66a4036b212117f2460105b.get_object(Bucket='dsproject101-donotdelete-pr-ceaqlie47lhea1',Key='test.csv')['Body']\n# add missing __iter__ method, so pandas accepts body as file-like object\nif not hasattr(body, \"__iter__\"): body.__iter__ = types.MethodType( __iter__, body )\n\ntest = pd.read_csv(body)\ntest.head()\n"
        },
        {
            "cell_type": "code",
            "execution_count": 23,
            "metadata": {
                "scrolled": true
            },
            "outputs": [
                {
                    "data": {
                        "text/html": "<div>\n<style scoped>\n    .dataframe tbody tr th:only-of-type {\n        vertical-align: middle;\n    }\n\n    .dataframe tbody tr th {\n        vertical-align: top;\n    }\n\n    .dataframe thead th {\n        text-align: right;\n    }\n</style>\n<table border=\"1\" class=\"dataframe\">\n  <thead>\n    <tr style=\"text-align: right;\">\n      <th></th>\n      <th>Sex</th>\n      <th>Earnings</th>\n      <th>Region_Code</th>\n      <th>Marital Status</th>\n      <th>State_of_Origin</th>\n      <th>Customer_Worth</th>\n      <th>Customer_Reply</th>\n      <th>Plan</th>\n      <th>Certification</th>\n      <th>Effective To Date</th>\n      <th>Status_of_Employment</th>\n      <th>Premium_Auto_per_Month</th>\n      <th>Total Claim Amount</th>\n      <th>Vehicle Class</th>\n      <th>Vehicle Size</th>\n      <th>Months Since Last Claim</th>\n      <th>Months Since Policy Inception</th>\n      <th>Counts_of_Open_Complaints</th>\n      <th>No_Of_POlicy</th>\n      <th>kind_of_policy</th>\n      <th>Active_Policy</th>\n      <th>Sales Channel</th>\n    </tr>\n  </thead>\n  <tbody>\n    <tr>\n      <th>0</th>\n      <td>Male</td>\n      <td>149170</td>\n      <td>Rural</td>\n      <td>Married</td>\n      <td>Lagos</td>\n      <td>4224.631209</td>\n      <td>Not_interested</td>\n      <td>Bronze</td>\n      <td>O_Level</td>\n      <td>1/17/11</td>\n      <td>Fully_Employed</td>\n      <td>212</td>\n      <td>218.598065</td>\n      <td>SUV</td>\n      <td>Medsize</td>\n      <td>1</td>\n      <td>49</td>\n      <td>0</td>\n      <td>1</td>\n      <td>Personal</td>\n      <td>P_L3</td>\n      <td>Agent</td>\n    </tr>\n    <tr>\n      <th>1</th>\n      <td>Female</td>\n      <td>46436</td>\n      <td>Suburban</td>\n      <td>Single</td>\n      <td>Abuja</td>\n      <td>5516.344018</td>\n      <td>Not_interested</td>\n      <td>Bronze</td>\n      <td>O_Level</td>\n      <td>2/1/2011</td>\n      <td>Fully_Employed</td>\n      <td>142</td>\n      <td>447.793440</td>\n      <td>Two-Door Car</td>\n      <td>Medsize</td>\n      <td>7</td>\n      <td>10</td>\n      <td>0</td>\n      <td>4</td>\n      <td>Personal</td>\n      <td>P_L2</td>\n      <td>Agent</td>\n    </tr>\n    <tr>\n      <th>2</th>\n      <td>Female</td>\n      <td>189806</td>\n      <td>Suburban</td>\n      <td>Married</td>\n      <td>Abuja</td>\n      <td>3810.122147</td>\n      <td>Interested</td>\n      <td>Silver</td>\n      <td>HND</td>\n      <td>1/28/11</td>\n      <td>Fully_Employed</td>\n      <td>188</td>\n      <td>451.200000</td>\n      <td>Two-Door Car</td>\n      <td>Small</td>\n      <td>3</td>\n      <td>38</td>\n      <td>0</td>\n      <td>1</td>\n      <td>Personal</td>\n      <td>P_L3</td>\n      <td>Agent</td>\n    </tr>\n    <tr>\n      <th>3</th>\n      <td>Female</td>\n      <td>154306</td>\n      <td>Urban</td>\n      <td>Married</td>\n      <td>Lagos</td>\n      <td>7916.823110</td>\n      <td>Not_interested</td>\n      <td>Silver</td>\n      <td>HND</td>\n      <td>9/2/2011</td>\n      <td>Fully_Employed</td>\n      <td>198</td>\n      <td>355.641958</td>\n      <td>Four-Door Car</td>\n      <td>Medsize</td>\n      <td>3</td>\n      <td>27</td>\n      <td>2</td>\n      <td>5</td>\n      <td>Personal</td>\n      <td>P_L3</td>\n      <td>Branch</td>\n    </tr>\n    <tr>\n      <th>4</th>\n      <td>Female</td>\n      <td>47538</td>\n      <td>Suburban</td>\n      <td>Divorced</td>\n      <td>Kano</td>\n      <td>7933.722181</td>\n      <td>Not_interested</td>\n      <td>Bronze</td>\n      <td>O_Level</td>\n      <td>2/20/11</td>\n      <td>Disabled</td>\n      <td>138</td>\n      <td>470.097411</td>\n      <td>Four-Door Car</td>\n      <td>Medsize</td>\n      <td>18</td>\n      <td>14</td>\n      <td>0</td>\n      <td>2</td>\n      <td>Personal</td>\n      <td>P_L2</td>\n      <td>Branch</td>\n    </tr>\n  </tbody>\n</table>\n</div>",
                        "text/plain": "      Sex  Earnings Region_Code Marital Status State_of_Origin  \\\n0    Male    149170       Rural        Married           Lagos   \n1  Female     46436    Suburban         Single           Abuja   \n2  Female    189806    Suburban        Married           Abuja   \n3  Female    154306       Urban        Married           Lagos   \n4  Female     47538    Suburban       Divorced            Kano   \n\n   Customer_Worth  Customer_Reply    Plan Certification Effective To Date  \\\n0     4224.631209  Not_interested  Bronze       O_Level           1/17/11   \n1     5516.344018  Not_interested  Bronze       O_Level          2/1/2011   \n2     3810.122147      Interested  Silver           HND           1/28/11   \n3     7916.823110  Not_interested  Silver           HND          9/2/2011   \n4     7933.722181  Not_interested  Bronze       O_Level           2/20/11   \n\n  Status_of_Employment  Premium_Auto_per_Month  Total Claim Amount  \\\n0       Fully_Employed                     212          218.598065   \n1       Fully_Employed                     142          447.793440   \n2       Fully_Employed                     188          451.200000   \n3       Fully_Employed                     198          355.641958   \n4             Disabled                     138          470.097411   \n\n   Vehicle Class Vehicle Size  Months Since Last Claim  \\\n0            SUV      Medsize                        1   \n1   Two-Door Car      Medsize                        7   \n2   Two-Door Car        Small                        3   \n3  Four-Door Car      Medsize                        3   \n4  Four-Door Car      Medsize                       18   \n\n   Months Since Policy Inception  Counts_of_Open_Complaints  No_Of_POlicy  \\\n0                             49                          0             1   \n1                             10                          0             4   \n2                             38                          0             1   \n3                             27                          2             5   \n4                             14                          0             2   \n\n  kind_of_policy Active_Policy Sales Channel  \n0       Personal          P_L3         Agent  \n1       Personal          P_L2         Agent  \n2       Personal          P_L3         Agent  \n3       Personal          P_L3        Branch  \n4       Personal          P_L2        Branch  "
                    },
                    "execution_count": 23,
                    "metadata": {},
                    "output_type": "execute_result"
                }
            ],
            "source": "test1 = test.drop([\"Customer_ID\"], axis=1)\ntest1.head()"
        },
        {
            "cell_type": "code",
            "execution_count": 26,
            "metadata": {},
            "outputs": [
                {
                    "data": {
                        "text/html": "<div>\n<style scoped>\n    .dataframe tbody tr th:only-of-type {\n        vertical-align: middle;\n    }\n\n    .dataframe tbody tr th {\n        vertical-align: top;\n    }\n\n    .dataframe thead th {\n        text-align: right;\n    }\n</style>\n<table border=\"1\" class=\"dataframe\">\n  <thead>\n    <tr style=\"text-align: right;\">\n      <th></th>\n      <th>Marital Status</th>\n      <th>Customer_Worth</th>\n      <th>Customer_Reply</th>\n      <th>Status_of_Employment</th>\n      <th>No_Of_POlicy</th>\n      <th>Sales Channel</th>\n    </tr>\n  </thead>\n  <tbody>\n    <tr>\n      <th>0</th>\n      <td>Married</td>\n      <td>4224.631209</td>\n      <td>Not_interested</td>\n      <td>Fully_Employed</td>\n      <td>1</td>\n      <td>Agent</td>\n    </tr>\n    <tr>\n      <th>1</th>\n      <td>Single</td>\n      <td>5516.344018</td>\n      <td>Not_interested</td>\n      <td>Fully_Employed</td>\n      <td>4</td>\n      <td>Agent</td>\n    </tr>\n    <tr>\n      <th>2</th>\n      <td>Married</td>\n      <td>3810.122147</td>\n      <td>Interested</td>\n      <td>Fully_Employed</td>\n      <td>1</td>\n      <td>Agent</td>\n    </tr>\n    <tr>\n      <th>3</th>\n      <td>Married</td>\n      <td>7916.823110</td>\n      <td>Not_interested</td>\n      <td>Fully_Employed</td>\n      <td>5</td>\n      <td>Branch</td>\n    </tr>\n    <tr>\n      <th>4</th>\n      <td>Divorced</td>\n      <td>7933.722181</td>\n      <td>Not_interested</td>\n      <td>Disabled</td>\n      <td>2</td>\n      <td>Branch</td>\n    </tr>\n  </tbody>\n</table>\n</div>",
                        "text/plain": "  Marital Status  Customer_Worth  Customer_Reply Status_of_Employment  \\\n0        Married     4224.631209  Not_interested       Fully_Employed   \n1         Single     5516.344018  Not_interested       Fully_Employed   \n2        Married     3810.122147      Interested       Fully_Employed   \n3        Married     7916.823110  Not_interested       Fully_Employed   \n4       Divorced     7933.722181  Not_interested             Disabled   \n\n   No_Of_POlicy Sales Channel  \n0             1         Agent  \n1             4         Agent  \n2             1         Agent  \n3             5        Branch  \n4             2        Branch  "
                    },
                    "execution_count": 26,
                    "metadata": {},
                    "output_type": "execute_result"
                }
            ],
            "source": "test1 = test[['Marital Status', 'Customer_Worth', 'Customer_Reply', 'Status_of_Employment','No_Of_POlicy','Sales Channel']]\ntest1.head()"
        },
        {
            "cell_type": "code",
            "execution_count": 24,
            "metadata": {},
            "outputs": [],
            "source": "dummy_variable4 = pd.get_dummies(test[\"Sales Channel\"])\n\ndummy_variable3 = pd.get_dummies(test[\"Marital Status\"])\n\ndummy_variable2 = pd.get_dummies(test[\"Status_of_Employment\"])\n\ndummy_variable1 = pd.get_dummies(test[\"Customer_Reply\"])"
        },
        {
            "cell_type": "code",
            "execution_count": 27,
            "metadata": {
                "scrolled": false
            },
            "outputs": [
                {
                    "data": {
                        "text/html": "<div>\n<style scoped>\n    .dataframe tbody tr th:only-of-type {\n        vertical-align: middle;\n    }\n\n    .dataframe tbody tr th {\n        vertical-align: top;\n    }\n\n    .dataframe thead th {\n        text-align: right;\n    }\n</style>\n<table border=\"1\" class=\"dataframe\">\n  <thead>\n    <tr style=\"text-align: right;\">\n      <th></th>\n      <th>Customer_Worth</th>\n      <th>No_Of_POlicy</th>\n      <th>Interested</th>\n      <th>Not_interested</th>\n      <th>Disabled</th>\n      <th>Fully_Employed</th>\n      <th>In_Retirement</th>\n      <th>Not_employed</th>\n      <th>On_Leave</th>\n      <th>Divorced</th>\n      <th>Married</th>\n      <th>Single</th>\n      <th>Agent</th>\n      <th>Branch</th>\n      <th>Call Center</th>\n      <th>Web</th>\n    </tr>\n  </thead>\n  <tbody>\n    <tr>\n      <th>0</th>\n      <td>4224.631209</td>\n      <td>1</td>\n      <td>0</td>\n      <td>1</td>\n      <td>0</td>\n      <td>1</td>\n      <td>0</td>\n      <td>0</td>\n      <td>0</td>\n      <td>0</td>\n      <td>1</td>\n      <td>0</td>\n      <td>1</td>\n      <td>0</td>\n      <td>0</td>\n      <td>0</td>\n    </tr>\n    <tr>\n      <th>1</th>\n      <td>5516.344018</td>\n      <td>4</td>\n      <td>0</td>\n      <td>1</td>\n      <td>0</td>\n      <td>1</td>\n      <td>0</td>\n      <td>0</td>\n      <td>0</td>\n      <td>0</td>\n      <td>0</td>\n      <td>1</td>\n      <td>1</td>\n      <td>0</td>\n      <td>0</td>\n      <td>0</td>\n    </tr>\n    <tr>\n      <th>2</th>\n      <td>3810.122147</td>\n      <td>1</td>\n      <td>1</td>\n      <td>0</td>\n      <td>0</td>\n      <td>1</td>\n      <td>0</td>\n      <td>0</td>\n      <td>0</td>\n      <td>0</td>\n      <td>1</td>\n      <td>0</td>\n      <td>1</td>\n      <td>0</td>\n      <td>0</td>\n      <td>0</td>\n    </tr>\n    <tr>\n      <th>3</th>\n      <td>7916.823110</td>\n      <td>5</td>\n      <td>0</td>\n      <td>1</td>\n      <td>0</td>\n      <td>1</td>\n      <td>0</td>\n      <td>0</td>\n      <td>0</td>\n      <td>0</td>\n      <td>1</td>\n      <td>0</td>\n      <td>0</td>\n      <td>1</td>\n      <td>0</td>\n      <td>0</td>\n    </tr>\n    <tr>\n      <th>4</th>\n      <td>7933.722181</td>\n      <td>2</td>\n      <td>0</td>\n      <td>1</td>\n      <td>1</td>\n      <td>0</td>\n      <td>0</td>\n      <td>0</td>\n      <td>0</td>\n      <td>1</td>\n      <td>0</td>\n      <td>0</td>\n      <td>0</td>\n      <td>1</td>\n      <td>0</td>\n      <td>0</td>\n    </tr>\n  </tbody>\n</table>\n</div>",
                        "text/plain": "   Customer_Worth  No_Of_POlicy  Interested  Not_interested  Disabled  \\\n0     4224.631209             1           0               1         0   \n1     5516.344018             4           0               1         0   \n2     3810.122147             1           1               0         0   \n3     7916.823110             5           0               1         0   \n4     7933.722181             2           0               1         1   \n\n   Fully_Employed  In_Retirement  Not_employed  On_Leave  Divorced  Married  \\\n0               1              0             0         0         0        1   \n1               1              0             0         0         0        0   \n2               1              0             0         0         0        1   \n3               1              0             0         0         0        1   \n4               0              0             0         0         1        0   \n\n   Single  Agent  Branch  Call Center  Web  \n0       0      1       0            0    0  \n1       1      1       0            0    0  \n2       0      1       0            0    0  \n3       0      0       1            0    0  \n4       0      0       1            0    0  "
                    },
                    "execution_count": 27,
                    "metadata": {},
                    "output_type": "execute_result"
                }
            ],
            "source": "test1 = pd.concat([test1, dummy_variable1], axis=1)\ntest1 = pd.concat([test1, dummy_variable2], axis=1)\ntest1 = pd.concat([test1, dummy_variable3], axis=1)\ntest1 = pd.concat([test1, dummy_variable4], axis=1)\n\ntest1.drop(\"Customer_Reply\", axis = 1, inplace=True)\ntest1.drop(\"Sales Channel\", axis = 1, inplace=True)\ntest1.drop(\"Status_of_Employment\", axis = 1, inplace=True)\ntest1.drop(\"Marital Status\", axis = 1, inplace=True)\n\ntest1.head()"
        },
        {
            "cell_type": "code",
            "execution_count": 28,
            "metadata": {},
            "outputs": [
                {
                    "data": {
                        "text/plain": "array([0, 0, 0, ..., 0, 0, 0])"
                    },
                    "execution_count": 28,
                    "metadata": {},
                    "output_type": "execute_result"
                }
            ],
            "source": "New_test=MyLady.predict(test1)\nNew_test"
        },
        {
            "cell_type": "code",
            "execution_count": 29,
            "metadata": {
                "scrolled": true
            },
            "outputs": [
                {
                    "data": {
                        "text/html": "<div>\n<style scoped>\n    .dataframe tbody tr th:only-of-type {\n        vertical-align: middle;\n    }\n\n    .dataframe tbody tr th {\n        vertical-align: top;\n    }\n\n    .dataframe thead th {\n        text-align: right;\n    }\n</style>\n<table border=\"1\" class=\"dataframe\">\n  <thead>\n    <tr style=\"text-align: right;\">\n      <th></th>\n      <th>0</th>\n    </tr>\n  </thead>\n  <tbody>\n    <tr>\n      <th>0</th>\n      <td>0</td>\n    </tr>\n    <tr>\n      <th>1</th>\n      <td>0</td>\n    </tr>\n    <tr>\n      <th>2</th>\n      <td>0</td>\n    </tr>\n    <tr>\n      <th>3</th>\n      <td>0</td>\n    </tr>\n    <tr>\n      <th>4</th>\n      <td>0</td>\n    </tr>\n  </tbody>\n</table>\n</div>",
                        "text/plain": "   0\n0  0\n1  0\n2  0\n3  0\n4  0"
                    },
                    "execution_count": 29,
                    "metadata": {},
                    "output_type": "execute_result"
                }
            ],
            "source": "Best_offer = pd.DataFrame(New_test)\nBest_offer.head()"
        },
        {
            "cell_type": "code",
            "execution_count": 30,
            "metadata": {
                "scrolled": true
            },
            "outputs": [
                {
                    "data": {
                        "text/html": "<div>\n<style scoped>\n    .dataframe tbody tr th:only-of-type {\n        vertical-align: middle;\n    }\n\n    .dataframe tbody tr th {\n        vertical-align: top;\n    }\n\n    .dataframe thead th {\n        text-align: right;\n    }\n</style>\n<table border=\"1\" class=\"dataframe\">\n  <thead>\n    <tr style=\"text-align: right;\">\n      <th></th>\n      <th>Customer_ID</th>\n      <th>Best_offer</th>\n    </tr>\n  </thead>\n  <tbody>\n    <tr>\n      <th>0</th>\n      <td>Customer_708</td>\n      <td>0</td>\n    </tr>\n    <tr>\n      <th>1</th>\n      <td>Customer_47</td>\n      <td>0</td>\n    </tr>\n    <tr>\n      <th>2</th>\n      <td>Customer_3995</td>\n      <td>0</td>\n    </tr>\n    <tr>\n      <th>3</th>\n      <td>Customer_1513</td>\n      <td>0</td>\n    </tr>\n    <tr>\n      <th>4</th>\n      <td>Customer_3686</td>\n      <td>0</td>\n    </tr>\n  </tbody>\n</table>\n</div>",
                        "text/plain": "     Customer_ID  Best_offer\n0   Customer_708           0\n1    Customer_47           0\n2  Customer_3995           0\n3  Customer_1513           0\n4  Customer_3686           0"
                    },
                    "execution_count": 30,
                    "metadata": {},
                    "output_type": "execute_result"
                }
            ],
            "source": "NewTest= test[['Customer_ID']]\nNewTest = pd.concat([NewTest, Best_offer], axis=1)\nNewTest.columns= ['Customer_ID','Best_offer']\nNewTest.head()"
        },
        {
            "cell_type": "code",
            "execution_count": 31,
            "metadata": {
                "scrolled": false
            },
            "outputs": [
                {
                    "data": {
                        "text/plain": "{'file_name': 'NewTest4.csv',\n 'message': 'File saved to project storage.',\n 'bucket_name': 'dsproject101-donotdelete-pr-ceaqlie47lhea1',\n 'asset_id': '3fb18623-e732-4228-bea5-1f5d16cd5c80'}"
                    },
                    "execution_count": 31,
                    "metadata": {},
                    "output_type": "execute_result"
                }
            ],
            "source": "\n\nproject.save_data(file_name = \"NewTest4.csv\",data = NewTest.to_csv(index=False))"
        },
        {
            "cell_type": "code",
            "execution_count": null,
            "metadata": {},
            "outputs": [],
            "source": ""
        }
    ],
    "metadata": {
        "kernelspec": {
            "display_name": "Python 3.8",
            "language": "python",
            "name": "python3"
        },
        "language_info": {
            "codemirror_mode": {
                "name": "ipython",
                "version": 3
            },
            "file_extension": ".py",
            "mimetype": "text/x-python",
            "name": "python",
            "nbconvert_exporter": "python",
            "pygments_lexer": "ipython3",
            "version": "3.8.11"
        }
    },
    "nbformat": 4,
    "nbformat_minor": 1
}