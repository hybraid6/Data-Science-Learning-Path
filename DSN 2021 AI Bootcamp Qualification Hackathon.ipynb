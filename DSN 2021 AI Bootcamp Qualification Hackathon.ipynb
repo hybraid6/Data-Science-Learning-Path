{
    "cells": [
        {
            "cell_type": "code",
            "execution_count": 2,
            "metadata": {
                "collapsed": true
            },
            "outputs": [
                {
                    "data": {
                        "text/html": "<div>\n<style scoped>\n    .dataframe tbody tr th:only-of-type {\n        vertical-align: middle;\n    }\n\n    .dataframe tbody tr th {\n        vertical-align: top;\n    }\n\n    .dataframe thead th {\n        text-align: right;\n    }\n</style>\n<table border=\"1\" class=\"dataframe\">\n  <thead>\n    <tr style=\"text-align: right;\">\n      <th></th>\n      <th>ID</th>\n      <th>Year_of_Birth</th>\n      <th>Education_Level</th>\n      <th>Marital_Status</th>\n      <th>Disposable_Income</th>\n      <th>No_of_Kids_in_home</th>\n      <th>No_of_Teen_in_home</th>\n      <th>Date_Customer</th>\n      <th>Recency</th>\n      <th>Discounted_Purchases</th>\n      <th>...</th>\n      <th>Amount_on_SweetProducts</th>\n      <th>Amount_on_GoldProds</th>\n      <th>WebVisitsMonth</th>\n      <th>Cmp3Accepted</th>\n      <th>Cmp4Accepted</th>\n      <th>Cmp5Accepted</th>\n      <th>Cmp1Accepted</th>\n      <th>Cmp2Accepted</th>\n      <th>Any_Complain</th>\n      <th>Response</th>\n    </tr>\n  </thead>\n  <tbody>\n    <tr>\n      <th>0</th>\n      <td>ID_4A9AR6FQ</td>\n      <td>1955</td>\n      <td>Graduation</td>\n      <td>Divorced</td>\n      <td>77504.4</td>\n      <td>1</td>\n      <td>1</td>\n      <td>22-06-2014</td>\n      <td>56</td>\n      <td>2</td>\n      <td>...</td>\n      <td>6</td>\n      <td>20</td>\n      <td>3</td>\n      <td>0</td>\n      <td>0</td>\n      <td>0</td>\n      <td>0</td>\n      <td>0</td>\n      <td>0</td>\n      <td>0</td>\n    </tr>\n    <tr>\n      <th>1</th>\n      <td>ID_X28T3VEK</td>\n      <td>1958</td>\n      <td>Graduation</td>\n      <td>Together</td>\n      <td>56784.0</td>\n      <td>0</td>\n      <td>1</td>\n      <td>01-08-2013</td>\n      <td>17</td>\n      <td>6</td>\n      <td>...</td>\n      <td>15</td>\n      <td>19</td>\n      <td>6</td>\n      <td>0</td>\n      <td>0</td>\n      <td>0</td>\n      <td>0</td>\n      <td>0</td>\n      <td>0</td>\n      <td>0</td>\n    </tr>\n    <tr>\n      <th>2</th>\n      <td>ID_AWXARH57</td>\n      <td>1962</td>\n      <td>Graduation</td>\n      <td>Single</td>\n      <td>103714.8</td>\n      <td>0</td>\n      <td>0</td>\n      <td>21-11-2013</td>\n      <td>17</td>\n      <td>0</td>\n      <td>...</td>\n      <td>18</td>\n      <td>37</td>\n      <td>2</td>\n      <td>0</td>\n      <td>0</td>\n      <td>0</td>\n      <td>1</td>\n      <td>0</td>\n      <td>0</td>\n      <td>1</td>\n    </tr>\n    <tr>\n      <th>3</th>\n      <td>ID_FQVZHE81</td>\n      <td>1979</td>\n      <td>2n Cycle</td>\n      <td>Single</td>\n      <td>46311.6</td>\n      <td>1</td>\n      <td>0</td>\n      <td>13-09-2013</td>\n      <td>49</td>\n      <td>3</td>\n      <td>...</td>\n      <td>24</td>\n      <td>24</td>\n      <td>8</td>\n      <td>0</td>\n      <td>0</td>\n      <td>0</td>\n      <td>0</td>\n      <td>0</td>\n      <td>0</td>\n      <td>0</td>\n    </tr>\n    <tr>\n      <th>4</th>\n      <td>ID_QVLWGPRN</td>\n      <td>1959</td>\n      <td>Graduation</td>\n      <td>Married</td>\n      <td>87486.0</td>\n      <td>0</td>\n      <td>0</td>\n      <td>21-01-2014</td>\n      <td>59</td>\n      <td>1</td>\n      <td>...</td>\n      <td>165</td>\n      <td>203</td>\n      <td>1</td>\n      <td>0</td>\n      <td>0</td>\n      <td>0</td>\n      <td>1</td>\n      <td>0</td>\n      <td>0</td>\n      <td>0</td>\n    </tr>\n  </tbody>\n</table>\n<p>5 rows \u00d7 27 columns</p>\n</div>",
                        "text/plain": "            ID  Year_of_Birth Education_Level Marital_Status  \\\n0  ID_4A9AR6FQ           1955      Graduation       Divorced   \n1  ID_X28T3VEK           1958      Graduation       Together   \n2  ID_AWXARH57           1962      Graduation         Single   \n3  ID_FQVZHE81           1979        2n Cycle         Single   \n4  ID_QVLWGPRN           1959      Graduation        Married   \n\n   Disposable_Income  No_of_Kids_in_home  No_of_Teen_in_home Date_Customer  \\\n0            77504.4                   1                   1    22-06-2014   \n1            56784.0                   0                   1    01-08-2013   \n2           103714.8                   0                   0    21-11-2013   \n3            46311.6                   1                   0    13-09-2013   \n4            87486.0                   0                   0    21-01-2014   \n\n   Recency  Discounted_Purchases  ...  Amount_on_SweetProducts  \\\n0       56                     2  ...                        6   \n1       17                     6  ...                       15   \n2       17                     0  ...                       18   \n3       49                     3  ...                       24   \n4       59                     1  ...                      165   \n\n   Amount_on_GoldProds  WebVisitsMonth  Cmp3Accepted  Cmp4Accepted  \\\n0                   20               3             0             0   \n1                   19               6             0             0   \n2                   37               2             0             0   \n3                   24               8             0             0   \n4                  203               1             0             0   \n\n   Cmp5Accepted  Cmp1Accepted  Cmp2Accepted  Any_Complain  Response  \n0             0             0             0             0         0  \n1             0             0             0             0         0  \n2             0             1             0             0         1  \n3             0             0             0             0         0  \n4             0             1             0             0         0  \n\n[5 rows x 27 columns]"
                    },
                    "execution_count": 2,
                    "metadata": {},
                    "output_type": "execute_result"
                }
            ],
            "source": "\nimport os, types\nimport pandas as pd\nfrom botocore.client import Config\nimport ibm_boto3\n\ndef __iter__(self): return 0\n\n# The following code accesses a file in your IBM Cloud Object Storage. It includes your credentials.\n# You might want to remove those credentials before you share the notebook.\n\nvibr = pd.read_csv(body)\nvibr.head()\n"
        },
        {
            "cell_type": "markdown",
            "metadata": {},
            "source": "# Trying to gain insight..."
        },
        {
            "cell_type": "code",
            "execution_count": 5,
            "metadata": {
                "collapsed": true
            },
            "outputs": [
                {
                    "data": {
                        "text/html": "<div>\n<style scoped>\n    .dataframe tbody tr th:only-of-type {\n        vertical-align: middle;\n    }\n\n    .dataframe tbody tr th {\n        vertical-align: top;\n    }\n\n    .dataframe thead th {\n        text-align: right;\n    }\n</style>\n<table border=\"1\" class=\"dataframe\">\n  <thead>\n    <tr style=\"text-align: right;\">\n      <th></th>\n      <th>ID</th>\n      <th>Year_of_Birth</th>\n      <th>Education_Level</th>\n      <th>Marital_Status</th>\n      <th>Disposable_Income</th>\n      <th>No_of_Kids_in_home</th>\n      <th>No_of_Teen_in_home</th>\n      <th>Date_Customer</th>\n      <th>Recency</th>\n      <th>Discounted_Purchases</th>\n      <th>WebPurchases</th>\n      <th>CatalogPurchases</th>\n      <th>StorePurchases</th>\n      <th>Amount_on_Wines</th>\n      <th>Amount_on_Fruits</th>\n      <th>Amount_on_MeatProducts</th>\n      <th>Amount_on_FishProducts</th>\n      <th>Amount_on_SweetProducts</th>\n      <th>Amount_on_GoldProds</th>\n      <th>WebVisitsMonth</th>\n      <th>Cmp3Accepted</th>\n      <th>Cmp4Accepted</th>\n      <th>Cmp5Accepted</th>\n      <th>Cmp1Accepted</th>\n      <th>Cmp2Accepted</th>\n      <th>Any_Complain</th>\n      <th>Response</th>\n    </tr>\n  </thead>\n  <tbody>\n    <tr>\n      <th>0</th>\n      <td>ID_4A9AR6FQ</td>\n      <td>1955</td>\n      <td>Graduation</td>\n      <td>Divorced</td>\n      <td>77504.4</td>\n      <td>1</td>\n      <td>1</td>\n      <td>22-06-2014</td>\n      <td>56</td>\n      <td>2</td>\n      <td>1</td>\n      <td>1</td>\n      <td>4</td>\n      <td>71</td>\n      <td>3</td>\n      <td>16</td>\n      <td>0</td>\n      <td>6</td>\n      <td>20</td>\n      <td>3</td>\n      <td>0</td>\n      <td>0</td>\n      <td>0</td>\n      <td>0</td>\n      <td>0</td>\n      <td>0</td>\n      <td>0</td>\n    </tr>\n    <tr>\n      <th>1</th>\n      <td>ID_X28T3VEK</td>\n      <td>1958</td>\n      <td>Graduation</td>\n      <td>Together</td>\n      <td>56784.0</td>\n      <td>0</td>\n      <td>1</td>\n      <td>01-08-2013</td>\n      <td>17</td>\n      <td>6</td>\n      <td>5</td>\n      <td>1</td>\n      <td>8</td>\n      <td>205</td>\n      <td>22</td>\n      <td>111</td>\n      <td>50</td>\n      <td>15</td>\n      <td>19</td>\n      <td>6</td>\n      <td>0</td>\n      <td>0</td>\n      <td>0</td>\n      <td>0</td>\n      <td>0</td>\n      <td>0</td>\n      <td>0</td>\n    </tr>\n    <tr>\n      <th>2</th>\n      <td>ID_AWXARH57</td>\n      <td>1962</td>\n      <td>Graduation</td>\n      <td>Single</td>\n      <td>103714.8</td>\n      <td>0</td>\n      <td>0</td>\n      <td>21-11-2013</td>\n      <td>17</td>\n      <td>0</td>\n      <td>7</td>\n      <td>4</td>\n      <td>7</td>\n      <td>469</td>\n      <td>31</td>\n      <td>873</td>\n      <td>29</td>\n      <td>18</td>\n      <td>37</td>\n      <td>2</td>\n      <td>0</td>\n      <td>0</td>\n      <td>0</td>\n      <td>1</td>\n      <td>0</td>\n      <td>0</td>\n      <td>1</td>\n    </tr>\n    <tr>\n      <th>3</th>\n      <td>ID_FQVZHE81</td>\n      <td>1979</td>\n      <td>2n Cycle</td>\n      <td>Single</td>\n      <td>46311.6</td>\n      <td>1</td>\n      <td>0</td>\n      <td>13-09-2013</td>\n      <td>49</td>\n      <td>3</td>\n      <td>4</td>\n      <td>1</td>\n      <td>3</td>\n      <td>56</td>\n      <td>15</td>\n      <td>49</td>\n      <td>17</td>\n      <td>24</td>\n      <td>24</td>\n      <td>8</td>\n      <td>0</td>\n      <td>0</td>\n      <td>0</td>\n      <td>0</td>\n      <td>0</td>\n      <td>0</td>\n      <td>0</td>\n    </tr>\n    <tr>\n      <th>4</th>\n      <td>ID_QVLWGPRN</td>\n      <td>1959</td>\n      <td>Graduation</td>\n      <td>Married</td>\n      <td>87486.0</td>\n      <td>0</td>\n      <td>0</td>\n      <td>21-01-2014</td>\n      <td>59</td>\n      <td>1</td>\n      <td>3</td>\n      <td>7</td>\n      <td>9</td>\n      <td>412</td>\n      <td>117</td>\n      <td>445</td>\n      <td>181</td>\n      <td>165</td>\n      <td>203</td>\n      <td>1</td>\n      <td>0</td>\n      <td>0</td>\n      <td>0</td>\n      <td>1</td>\n      <td>0</td>\n      <td>0</td>\n      <td>0</td>\n    </tr>\n  </tbody>\n</table>\n</div>",
                        "text/plain": "            ID  Year_of_Birth Education_Level Marital_Status  \\\n0  ID_4A9AR6FQ           1955      Graduation       Divorced   \n1  ID_X28T3VEK           1958      Graduation       Together   \n2  ID_AWXARH57           1962      Graduation         Single   \n3  ID_FQVZHE81           1979        2n Cycle         Single   \n4  ID_QVLWGPRN           1959      Graduation        Married   \n\n   Disposable_Income  No_of_Kids_in_home  No_of_Teen_in_home Date_Customer  \\\n0            77504.4                   1                   1    22-06-2014   \n1            56784.0                   0                   1    01-08-2013   \n2           103714.8                   0                   0    21-11-2013   \n3            46311.6                   1                   0    13-09-2013   \n4            87486.0                   0                   0    21-01-2014   \n\n   Recency  Discounted_Purchases  WebPurchases  CatalogPurchases  \\\n0       56                     2             1                 1   \n1       17                     6             5                 1   \n2       17                     0             7                 4   \n3       49                     3             4                 1   \n4       59                     1             3                 7   \n\n   StorePurchases  Amount_on_Wines  Amount_on_Fruits  Amount_on_MeatProducts  \\\n0               4               71                 3                      16   \n1               8              205                22                     111   \n2               7              469                31                     873   \n3               3               56                15                      49   \n4               9              412               117                     445   \n\n   Amount_on_FishProducts  Amount_on_SweetProducts  Amount_on_GoldProds  \\\n0                       0                        6                   20   \n1                      50                       15                   19   \n2                      29                       18                   37   \n3                      17                       24                   24   \n4                     181                      165                  203   \n\n   WebVisitsMonth  Cmp3Accepted  Cmp4Accepted  Cmp5Accepted  Cmp1Accepted  \\\n0               3             0             0             0             0   \n1               6             0             0             0             0   \n2               2             0             0             0             1   \n3               8             0             0             0             0   \n4               1             0             0             0             1   \n\n   Cmp2Accepted  Any_Complain  Response  \n0             0             0         0  \n1             0             0         0  \n2             0             0         1  \n3             0             0         0  \n4             0             0         0  "
                    },
                    "execution_count": 5,
                    "metadata": {},
                    "output_type": "execute_result"
                }
            ],
            "source": "pd.set_option('display.max_columns', None)\npd.set_option('display.max_rows', None)\nvibr.head(5)"
        },
        {
            "cell_type": "code",
            "execution_count": 5,
            "metadata": {
                "collapsed": true
            },
            "outputs": [
                {
                    "name": "stdout",
                    "output_type": "stream",
                    "text": "<class 'pandas.core.frame.DataFrame'>\nRangeIndex: 1568 entries, 0 to 1567\nData columns (total 27 columns):\n #   Column                   Non-Null Count  Dtype  \n---  ------                   --------------  -----  \n 0   ID                       1568 non-null   object \n 1   Year_of_Birth            1568 non-null   int64  \n 2   Education_Level          1568 non-null   object \n 3   Marital_Status           1568 non-null   object \n 4   Disposable_Income        1552 non-null   float64\n 5   No_of_Kids_in_home       1568 non-null   int64  \n 6   No_of_Teen_in_home       1568 non-null   int64  \n 7   Date_Customer            1568 non-null   object \n 8   Recency                  1568 non-null   int64  \n 9   Discounted_Purchases     1568 non-null   int64  \n 10  WebPurchases             1568 non-null   int64  \n 11  CatalogPurchases         1568 non-null   int64  \n 12  StorePurchases           1568 non-null   int64  \n 13  Amount_on_Wines          1568 non-null   int64  \n 14  Amount_on_Fruits         1568 non-null   int64  \n 15  Amount_on_MeatProducts   1568 non-null   int64  \n 16  Amount_on_FishProducts   1568 non-null   int64  \n 17  Amount_on_SweetProducts  1568 non-null   int64  \n 18  Amount_on_GoldProds      1568 non-null   int64  \n 19  WebVisitsMonth           1568 non-null   int64  \n 20  Cmp3Accepted             1568 non-null   int64  \n 21  Cmp4Accepted             1568 non-null   int64  \n 22  Cmp5Accepted             1568 non-null   int64  \n 23  Cmp1Accepted             1568 non-null   int64  \n 24  Cmp2Accepted             1568 non-null   int64  \n 25  Any_Complain             1568 non-null   int64  \n 26  Response                 1568 non-null   int64  \ndtypes: float64(1), int64(22), object(4)\nmemory usage: 330.9+ KB\n"
                }
            ],
            "source": "vibr.info()"
        },
        {
            "cell_type": "code",
            "execution_count": 4,
            "metadata": {
                "collapsed": true
            },
            "outputs": [
                {
                    "data": {
                        "text/html": "<div>\n<style scoped>\n    .dataframe tbody tr th:only-of-type {\n        vertical-align: middle;\n    }\n\n    .dataframe tbody tr th {\n        vertical-align: top;\n    }\n\n    .dataframe thead th {\n        text-align: right;\n    }\n</style>\n<table border=\"1\" class=\"dataframe\">\n  <thead>\n    <tr style=\"text-align: right;\">\n      <th></th>\n      <th>ID</th>\n      <th>Year_of_Birth</th>\n      <th>Education_Level</th>\n      <th>Marital_Status</th>\n      <th>Disposable_Income</th>\n      <th>No_of_Kids_in_home</th>\n      <th>No_of_Teen_in_home</th>\n      <th>Date_Customer</th>\n      <th>Recency</th>\n      <th>Discounted_Purchases</th>\n      <th>WebPurchases</th>\n      <th>CatalogPurchases</th>\n      <th>StorePurchases</th>\n      <th>Amount_on_Wines</th>\n      <th>Amount_on_Fruits</th>\n      <th>Amount_on_MeatProducts</th>\n      <th>Amount_on_FishProducts</th>\n      <th>Amount_on_SweetProducts</th>\n      <th>Amount_on_GoldProds</th>\n      <th>WebVisitsMonth</th>\n      <th>Cmp3Accepted</th>\n      <th>Cmp4Accepted</th>\n      <th>Cmp5Accepted</th>\n      <th>Cmp1Accepted</th>\n      <th>Cmp2Accepted</th>\n      <th>Any_Complain</th>\n      <th>Response</th>\n    </tr>\n  </thead>\n  <tbody>\n    <tr>\n      <th>count</th>\n      <td>1568</td>\n      <td>1568.000000</td>\n      <td>1568</td>\n      <td>1568</td>\n      <td>1552.000000</td>\n      <td>1568.000000</td>\n      <td>1568.000000</td>\n      <td>1568</td>\n      <td>1568.000000</td>\n      <td>1568.000000</td>\n      <td>1568.000000</td>\n      <td>1568.000000</td>\n      <td>1568.000000</td>\n      <td>1568.000000</td>\n      <td>1568.000000</td>\n      <td>1568.000000</td>\n      <td>1568.000000</td>\n      <td>1568.000000</td>\n      <td>1568.000000</td>\n      <td>1568.000000</td>\n      <td>1568.000000</td>\n      <td>1568.000000</td>\n      <td>1568.000000</td>\n      <td>1568.000000</td>\n      <td>1568.000000</td>\n      <td>1568.000000</td>\n      <td>1568.000000</td>\n    </tr>\n    <tr>\n      <th>unique</th>\n      <td>1568</td>\n      <td>NaN</td>\n      <td>5</td>\n      <td>8</td>\n      <td>NaN</td>\n      <td>NaN</td>\n      <td>NaN</td>\n      <td>619</td>\n      <td>NaN</td>\n      <td>NaN</td>\n      <td>NaN</td>\n      <td>NaN</td>\n      <td>NaN</td>\n      <td>NaN</td>\n      <td>NaN</td>\n      <td>NaN</td>\n      <td>NaN</td>\n      <td>NaN</td>\n      <td>NaN</td>\n      <td>NaN</td>\n      <td>NaN</td>\n      <td>NaN</td>\n      <td>NaN</td>\n      <td>NaN</td>\n      <td>NaN</td>\n      <td>NaN</td>\n      <td>NaN</td>\n    </tr>\n    <tr>\n      <th>top</th>\n      <td>ID_6HCGURL2</td>\n      <td>NaN</td>\n      <td>Graduation</td>\n      <td>Married</td>\n      <td>NaN</td>\n      <td>NaN</td>\n      <td>NaN</td>\n      <td>12-05-2014</td>\n      <td>NaN</td>\n      <td>NaN</td>\n      <td>NaN</td>\n      <td>NaN</td>\n      <td>NaN</td>\n      <td>NaN</td>\n      <td>NaN</td>\n      <td>NaN</td>\n      <td>NaN</td>\n      <td>NaN</td>\n      <td>NaN</td>\n      <td>NaN</td>\n      <td>NaN</td>\n      <td>NaN</td>\n      <td>NaN</td>\n      <td>NaN</td>\n      <td>NaN</td>\n      <td>NaN</td>\n      <td>NaN</td>\n    </tr>\n    <tr>\n      <th>freq</th>\n      <td>1</td>\n      <td>NaN</td>\n      <td>802</td>\n      <td>615</td>\n      <td>NaN</td>\n      <td>NaN</td>\n      <td>NaN</td>\n      <td>10</td>\n      <td>NaN</td>\n      <td>NaN</td>\n      <td>NaN</td>\n      <td>NaN</td>\n      <td>NaN</td>\n      <td>NaN</td>\n      <td>NaN</td>\n      <td>NaN</td>\n      <td>NaN</td>\n      <td>NaN</td>\n      <td>NaN</td>\n      <td>NaN</td>\n      <td>NaN</td>\n      <td>NaN</td>\n      <td>NaN</td>\n      <td>NaN</td>\n      <td>NaN</td>\n      <td>NaN</td>\n      <td>NaN</td>\n    </tr>\n    <tr>\n      <th>mean</th>\n      <td>NaN</td>\n      <td>1970.073342</td>\n      <td>NaN</td>\n      <td>NaN</td>\n      <td>62381.186598</td>\n      <td>0.460459</td>\n      <td>0.497449</td>\n      <td>NaN</td>\n      <td>55.408801</td>\n      <td>2.292730</td>\n      <td>4.001276</td>\n      <td>2.665816</td>\n      <td>5.703444</td>\n      <td>303.190051</td>\n      <td>29.091199</td>\n      <td>168.376276</td>\n      <td>37.166454</td>\n      <td>26.800383</td>\n      <td>43.739158</td>\n      <td>5.326531</td>\n      <td>0.072704</td>\n      <td>0.072704</td>\n      <td>0.080357</td>\n      <td>0.064413</td>\n      <td>0.012755</td>\n      <td>0.008291</td>\n      <td>0.152423</td>\n    </tr>\n    <tr>\n      <th>std</th>\n      <td>NaN</td>\n      <td>11.920781</td>\n      <td>NaN</td>\n      <td>NaN</td>\n      <td>32089.169563</td>\n      <td>0.540361</td>\n      <td>0.544151</td>\n      <td>NaN</td>\n      <td>28.788037</td>\n      <td>1.937544</td>\n      <td>2.773748</td>\n      <td>3.043493</td>\n      <td>3.260553</td>\n      <td>340.141396</td>\n      <td>39.565637</td>\n      <td>233.419980</td>\n      <td>53.994951</td>\n      <td>40.857657</td>\n      <td>51.591557</td>\n      <td>2.468023</td>\n      <td>0.259733</td>\n      <td>0.259733</td>\n      <td>0.271932</td>\n      <td>0.245566</td>\n      <td>0.112252</td>\n      <td>0.090705</td>\n      <td>0.359546</td>\n    </tr>\n    <tr>\n      <th>min</th>\n      <td>NaN</td>\n      <td>1900.000000</td>\n      <td>NaN</td>\n      <td>NaN</td>\n      <td>2076.000000</td>\n      <td>0.000000</td>\n      <td>0.000000</td>\n      <td>NaN</td>\n      <td>7.000000</td>\n      <td>0.000000</td>\n      <td>0.000000</td>\n      <td>0.000000</td>\n      <td>0.000000</td>\n      <td>5.000000</td>\n      <td>3.000000</td>\n      <td>0.000000</td>\n      <td>0.000000</td>\n      <td>0.000000</td>\n      <td>0.000000</td>\n      <td>0.000000</td>\n      <td>0.000000</td>\n      <td>0.000000</td>\n      <td>0.000000</td>\n      <td>0.000000</td>\n      <td>0.000000</td>\n      <td>0.000000</td>\n      <td>0.000000</td>\n    </tr>\n    <tr>\n      <th>25%</th>\n      <td>NaN</td>\n      <td>1960.000000</td>\n      <td>NaN</td>\n      <td>NaN</td>\n      <td>41612.400000</td>\n      <td>0.000000</td>\n      <td>0.000000</td>\n      <td>NaN</td>\n      <td>31.000000</td>\n      <td>1.000000</td>\n      <td>2.000000</td>\n      <td>0.000000</td>\n      <td>3.000000</td>\n      <td>27.000000</td>\n      <td>4.000000</td>\n      <td>15.000000</td>\n      <td>3.000000</td>\n      <td>1.000000</td>\n      <td>8.000000</td>\n      <td>3.000000</td>\n      <td>0.000000</td>\n      <td>0.000000</td>\n      <td>0.000000</td>\n      <td>0.000000</td>\n      <td>0.000000</td>\n      <td>0.000000</td>\n      <td>0.000000</td>\n    </tr>\n    <tr>\n      <th>50%</th>\n      <td>NaN</td>\n      <td>1971.000000</td>\n      <td>NaN</td>\n      <td>NaN</td>\n      <td>60964.200000</td>\n      <td>0.000000</td>\n      <td>0.000000</td>\n      <td>NaN</td>\n      <td>56.000000</td>\n      <td>2.000000</td>\n      <td>3.000000</td>\n      <td>2.000000</td>\n      <td>5.000000</td>\n      <td>167.000000</td>\n      <td>11.000000</td>\n      <td>64.000000</td>\n      <td>12.000000</td>\n      <td>8.000000</td>\n      <td>25.000000</td>\n      <td>6.000000</td>\n      <td>0.000000</td>\n      <td>0.000000</td>\n      <td>0.000000</td>\n      <td>0.000000</td>\n      <td>0.000000</td>\n      <td>0.000000</td>\n      <td>0.000000</td>\n    </tr>\n    <tr>\n      <th>75%</th>\n      <td>NaN</td>\n      <td>1979.000000</td>\n      <td>NaN</td>\n      <td>NaN</td>\n      <td>81493.200000</td>\n      <td>1.000000</td>\n      <td>1.000000</td>\n      <td>NaN</td>\n      <td>80.000000</td>\n      <td>3.000000</td>\n      <td>6.000000</td>\n      <td>4.000000</td>\n      <td>8.000000</td>\n      <td>499.500000</td>\n      <td>36.000000</td>\n      <td>232.000000</td>\n      <td>49.250000</td>\n      <td>33.000000</td>\n      <td>56.000000</td>\n      <td>7.000000</td>\n      <td>0.000000</td>\n      <td>0.000000</td>\n      <td>0.000000</td>\n      <td>0.000000</td>\n      <td>0.000000</td>\n      <td>0.000000</td>\n      <td>0.000000</td>\n    </tr>\n    <tr>\n      <th>max</th>\n      <td>NaN</td>\n      <td>1997.000000</td>\n      <td>NaN</td>\n      <td>NaN</td>\n      <td>799999.200000</td>\n      <td>2.000000</td>\n      <td>2.000000</td>\n      <td>NaN</td>\n      <td>106.000000</td>\n      <td>15.000000</td>\n      <td>27.000000</td>\n      <td>28.000000</td>\n      <td>13.000000</td>\n      <td>1498.000000</td>\n      <td>202.000000</td>\n      <td>1725.000000</td>\n      <td>259.000000</td>\n      <td>263.000000</td>\n      <td>362.000000</td>\n      <td>20.000000</td>\n      <td>1.000000</td>\n      <td>1.000000</td>\n      <td>1.000000</td>\n      <td>1.000000</td>\n      <td>1.000000</td>\n      <td>1.000000</td>\n      <td>1.000000</td>\n    </tr>\n  </tbody>\n</table>\n</div>",
                        "text/plain": "                 ID  Year_of_Birth Education_Level Marital_Status  \\\ncount          1568    1568.000000            1568           1568   \nunique         1568            NaN               5              8   \ntop     ID_6HCGURL2            NaN      Graduation        Married   \nfreq              1            NaN             802            615   \nmean            NaN    1970.073342             NaN            NaN   \nstd             NaN      11.920781             NaN            NaN   \nmin             NaN    1900.000000             NaN            NaN   \n25%             NaN    1960.000000             NaN            NaN   \n50%             NaN    1971.000000             NaN            NaN   \n75%             NaN    1979.000000             NaN            NaN   \nmax             NaN    1997.000000             NaN            NaN   \n\n        Disposable_Income  No_of_Kids_in_home  No_of_Teen_in_home  \\\ncount         1552.000000         1568.000000         1568.000000   \nunique                NaN                 NaN                 NaN   \ntop                   NaN                 NaN                 NaN   \nfreq                  NaN                 NaN                 NaN   \nmean         62381.186598            0.460459            0.497449   \nstd          32089.169563            0.540361            0.544151   \nmin           2076.000000            0.000000            0.000000   \n25%          41612.400000            0.000000            0.000000   \n50%          60964.200000            0.000000            0.000000   \n75%          81493.200000            1.000000            1.000000   \nmax         799999.200000            2.000000            2.000000   \n\n       Date_Customer      Recency  Discounted_Purchases  WebPurchases  \\\ncount           1568  1568.000000           1568.000000   1568.000000   \nunique           619          NaN                   NaN           NaN   \ntop       12-05-2014          NaN                   NaN           NaN   \nfreq              10          NaN                   NaN           NaN   \nmean             NaN    55.408801              2.292730      4.001276   \nstd              NaN    28.788037              1.937544      2.773748   \nmin              NaN     7.000000              0.000000      0.000000   \n25%              NaN    31.000000              1.000000      2.000000   \n50%              NaN    56.000000              2.000000      3.000000   \n75%              NaN    80.000000              3.000000      6.000000   \nmax              NaN   106.000000             15.000000     27.000000   \n\n        CatalogPurchases  StorePurchases  Amount_on_Wines  Amount_on_Fruits  \\\ncount        1568.000000     1568.000000      1568.000000       1568.000000   \nunique               NaN             NaN              NaN               NaN   \ntop                  NaN             NaN              NaN               NaN   \nfreq                 NaN             NaN              NaN               NaN   \nmean            2.665816        5.703444       303.190051         29.091199   \nstd             3.043493        3.260553       340.141396         39.565637   \nmin             0.000000        0.000000         5.000000          3.000000   \n25%             0.000000        3.000000        27.000000          4.000000   \n50%             2.000000        5.000000       167.000000         11.000000   \n75%             4.000000        8.000000       499.500000         36.000000   \nmax            28.000000       13.000000      1498.000000        202.000000   \n\n        Amount_on_MeatProducts  Amount_on_FishProducts  \\\ncount              1568.000000             1568.000000   \nunique                     NaN                     NaN   \ntop                        NaN                     NaN   \nfreq                       NaN                     NaN   \nmean                168.376276               37.166454   \nstd                 233.419980               53.994951   \nmin                   0.000000                0.000000   \n25%                  15.000000                3.000000   \n50%                  64.000000               12.000000   \n75%                 232.000000               49.250000   \nmax                1725.000000              259.000000   \n\n        Amount_on_SweetProducts  Amount_on_GoldProds  WebVisitsMonth  \\\ncount               1568.000000          1568.000000     1568.000000   \nunique                      NaN                  NaN             NaN   \ntop                         NaN                  NaN             NaN   \nfreq                        NaN                  NaN             NaN   \nmean                  26.800383            43.739158        5.326531   \nstd                   40.857657            51.591557        2.468023   \nmin                    0.000000             0.000000        0.000000   \n25%                    1.000000             8.000000        3.000000   \n50%                    8.000000            25.000000        6.000000   \n75%                   33.000000            56.000000        7.000000   \nmax                  263.000000           362.000000       20.000000   \n\n        Cmp3Accepted  Cmp4Accepted  Cmp5Accepted  Cmp1Accepted  Cmp2Accepted  \\\ncount    1568.000000   1568.000000   1568.000000   1568.000000   1568.000000   \nunique           NaN           NaN           NaN           NaN           NaN   \ntop              NaN           NaN           NaN           NaN           NaN   \nfreq             NaN           NaN           NaN           NaN           NaN   \nmean        0.072704      0.072704      0.080357      0.064413      0.012755   \nstd         0.259733      0.259733      0.271932      0.245566      0.112252   \nmin         0.000000      0.000000      0.000000      0.000000      0.000000   \n25%         0.000000      0.000000      0.000000      0.000000      0.000000   \n50%         0.000000      0.000000      0.000000      0.000000      0.000000   \n75%         0.000000      0.000000      0.000000      0.000000      0.000000   \nmax         1.000000      1.000000      1.000000      1.000000      1.000000   \n\n        Any_Complain     Response  \ncount    1568.000000  1568.000000  \nunique           NaN          NaN  \ntop              NaN          NaN  \nfreq             NaN          NaN  \nmean        0.008291     0.152423  \nstd         0.090705     0.359546  \nmin         0.000000     0.000000  \n25%         0.000000     0.000000  \n50%         0.000000     0.000000  \n75%         0.000000     0.000000  \nmax         1.000000     1.000000  "
                    },
                    "execution_count": 4,
                    "metadata": {},
                    "output_type": "execute_result"
                }
            ],
            "source": "vibr.describe(include='all')"
        },
        {
            "cell_type": "code",
            "execution_count": 5,
            "metadata": {
                "collapsed": true
            },
            "outputs": [
                {
                    "data": {
                        "text/plain": "0        77504.4\n1        56784.0\n2       103714.8\n3        46311.6\n4        87486.0\n5        41090.4\n6        86673.6\n7        88711.2\n8        35606.4\n9        41305.2\n10       31473.6\n11       82386.0\n12       56080.8\n13       51103.2\n14       49989.6\n15       31309.2\n16       65763.6\n17       76766.4\n18       47227.2\n19      102582.0\n20       36672.0\n21       93132.0\n22       32940.0\n23       38230.8\n24       58438.8\n25       96822.0\n26       70862.4\n27       84214.8\n28       43108.8\n29       71599.2\n30      109119.6\n31       36999.6\n32       72702.0\n33       27574.8\n34       92756.4\n35        2076.0\n36       46142.4\n37       71150.4\n38       28130.4\n39       47343.6\n40       47906.4\n41       71377.2\n42       40132.8\n43       98996.4\n44       55328.4\n45      113845.2\n46       84715.2\n47       36672.0\n48       78124.8\n49       31150.8\n50       85935.6\n51       77011.2\n52       61544.4\n53       43231.2\n54      100238.4\n55       94717.2\n56       45814.8\n57       27102.0\n58      105716.4\n59        9000.0\n60       38145.6\n61       35712.0\n62       73288.8\n63       32241.6\n64       56284.8\n65       61434.0\n66       79552.8\n67       54820.8\n68       31380.0\n69       91038.0\n70       35178.0\n71       61882.8\n72       37392.0\n73       56307.6\n74       75414.0\n75      108271.2\n76       53522.4\n77       15085.2\n78       82076.4\n79       44874.0\n80       58423.2\n81       78252.0\n82      101887.2\n83       95046.0\n84       70933.2\n85       86479.2\n86       36446.4\n87       71870.4\n88       65631.6\n89       93435.6\n90       40831.2\n91       22714.8\n92       80202.0\n93       40147.2\n94       55066.8\n95       53186.4\n96       73543.2\n97       36626.4\n98      108000.0\n99       66450.0\n100      52861.2\n101      74286.0\n102      57888.0\n103      54910.8\n104      81979.2\n105      26792.4\n106      57813.6\n107      93146.4\n108      39813.6\n109      28515.6\n110      63037.2\n111      77940.0\n112      30211.2\n113      11457.6\n114      85640.4\n115      85951.2\n116      26412.0\n117      43539.6\n118      43561.2\n119      51922.8\n120      99085.2\n121      68520.0\n122      30302.4\n123      99360.0\n124      55707.6\n125      46142.4\n126      39318.0\n127      91838.4\n128          NaN\n129      53986.8\n130      59317.2\n131      76816.8\n132      82966.8\n133      79898.4\n134     103012.8\n135      56224.8\n136      41493.6\n137      41256.0\n138      53626.8\n139      77508.0\n140      84214.8\n141      21802.8\n142      81055.2\n143      89121.6\n144      50594.4\n145     110595.6\n146      83115.6\n147      26736.0\n148     102819.6\n149      92924.4\n150      92444.4\n151      23332.8\n152      43356.0\n153      56430.0\n154      36926.4\n155          NaN\n156      46569.6\n157      40053.6\n158      39898.8\n159      41464.8\n160      48412.8\n161      37190.4\n162      73870.8\n163      62895.6\n164      66189.6\n165      94370.4\n166          NaN\n167      41805.6\n168      19034.4\n169      60016.8\n170      27330.0\n171      72826.8\n172      83552.4\n173      97633.2\n174      85353.6\n175      73416.0\n176      81343.2\n177      39898.8\n178      78037.2\n179      32643.6\n180      75368.4\n181      46489.2\n182      60139.2\n183      45312.0\n184      44137.2\n185      78798.0\n186      26764.8\n187      38760.0\n188      47028.0\n189       9000.0\n190     799999.2\n191      66508.8\n192      40746.0\n193      68058.0\n194      96432.0\n195      98952.0\n196      27088.8\n197     116251.2\n198      57607.2\n199      43995.6\n200     109010.4\n201      92858.4\n202      95511.6\n203      58908.0\n204      51204.0\n205      61642.8\n206      46442.4\n207      68220.0\n208      41220.0\n209      83266.8\n210      68563.2\n211      59565.6\n212      87483.6\n213      38253.6\n214      18378.0\n215      42825.6\n216      48574.8\n217      98314.8\n218     100594.8\n219      46033.2\n220      50778.0\n221      78822.0\n222      49602.0\n223      96403.2\n224      34104.0\n225      36468.0\n226      74395.2\n227      95889.6\n228      45010.8\n229      85712.4\n230      78631.2\n231      61647.6\n232      24589.2\n233      21866.4\n234      68326.8\n235      40436.4\n236      78844.8\n237      93711.6\n238      62798.4\n239      43135.2\n240      48625.2\n241      90333.6\n242      63824.4\n243      89382.0\n244      74400.0\n245      50874.0\n246      41384.4\n247      31468.8\n248      50416.8\n249      36334.8\n250      82566.0\n251      93649.2\n252      75853.2\n253      19206.0\n254      22714.8\n255      40282.8\n256      24670.8\n257      79771.2\n258      91281.6\n259      80902.8\n260      81007.2\n261      86029.2\n262      42844.8\n263     116211.6\n264      97401.6\n265      44881.2\n266      63082.8\n267      80202.0\n268      84855.6\n269      24512.4\n270      69969.6\n271      66520.8\n272      93458.4\n273      70214.4\n274      70178.4\n275      78087.6\n276      20707.2\n277      28393.2\n278      25768.8\n279      36756.0\n280      71841.6\n281      53752.8\n282      88446.0\n283      42956.4\n284      89767.2\n285      39646.8\n286      43245.6\n287      77775.6\n288          NaN\n289      78585.6\n290      92432.4\n291      83094.0\n292      83858.4\n293      91083.6\n294      45260.4\n295      41011.2\n296      64383.6\n297      41644.8\n298      75895.2\n299      72664.8\n300      35083.2\n301      58652.4\n302      70700.4\n303      54086.4\n304      22928.4\n305      37179.6\n306      48708.0\n307      20572.8\n308      45836.4\n309      47462.4\n310      36903.6\n311      83916.0\n312      42818.4\n313      39445.2\n314     100612.8\n315      51229.2\n316      75384.0\n317      19983.6\n318     110812.8\n319      58701.6\n320     106944.0\n321      31564.8\n322      84740.4\n323      32520.0\n324      51660.0\n325     114634.8\n326      40297.2\n327      64053.6\n328      73120.8\n329      97633.2\n330      71224.8\n331      80077.2\n332       8202.0\n333      35998.8\n334      66762.0\n335      33087.6\n336     113260.8\n337     100612.8\n338      70420.8\n339      55105.2\n340      64548.0\n341      19497.6\n342     188691.6\n343      47073.6\n344      68155.2\n345      80557.2\n346      94742.4\n347      61044.0\n348      86738.4\n349      61077.6\n350      96169.2\n351      60465.6\n352      82819.2\n353      22495.2\n354      97460.4\n355      49602.0\n356      32706.0\n357      21720.0\n358      98546.4\n359      38288.4\n360      67890.0\n361      64772.4\n362      44750.4\n363      43365.6\n364      78584.4\n365      89100.0\n366      65950.8\n367      79647.6\n368      92397.6\n369      32692.8\n370      57549.6\n371     103244.4\n372      90910.8\n373      86356.8\n374      70874.4\n375      44083.2\n376      29065.2\n377      98154.0\n378      22714.8\n379      75204.0\n380      36757.2\n381      12484.8\n382     106016.4\n383      65628.0\n384      46344.0\n385      22785.6\n386      62628.0\n387      76698.0\n388      85141.2\n389      28243.2\n390      17818.8\n391      39646.8\n392      92811.6\n393      49693.2\n394      46256.4\n395      46092.0\n396      82184.4\n397     111546.0\n398      83246.4\n399      78834.0\n400      54694.8\n401       4827.6\n402      19837.2\n403      26529.6\n404      60870.0\n405      98798.4\n406      40783.2\n407      17755.2\n408      78264.0\n409      97888.8\n410      37662.0\n411      66286.8\n412      70375.2\n413      53160.0\n414      73276.8\n415      27330.0\n416      12294.0\n417      78127.2\n418      99781.2\n419      88424.4\n420     108765.6\n421      86155.2\n422      75790.8\n423          NaN\n424     100940.4\n425      41515.2\n426      67503.6\n427      64933.2\n428      42820.8\n429      79878.0\n430      32658.0\n431     105325.2\n432      40154.4\n433      86485.2\n434      63300.0\n435      61348.8\n436      82917.6\n437      70316.4\n438      40863.6\n439      84618.0\n440      59720.4\n441      95528.4\n442      50691.6\n443     100612.8\n444      46371.6\n445      68799.6\n446      49246.8\n447      75326.4\n448      65263.2\n449      96915.6\n450      57369.6\n451     111430.8\n452      26346.0\n453      83706.0\n454      27777.6\n455      80966.4\n456      29240.4\n457      25228.8\n458      19216.8\n459      66300.0\n460      61694.4\n461      74940.0\n462          NaN\n463      58684.8\n464      64929.6\n465      90608.4\n466     101035.2\n467      34066.8\n468      92851.2\n469      23302.8\n470      77190.0\n471      43051.2\n472      20787.6\n473      42652.8\n474      49731.6\n475      28172.4\n476      38775.6\n477      44692.8\n478      68509.2\n479      59416.8\n480      43731.6\n481      50602.8\n482      37623.6\n483      95935.2\n484      33506.4\n485      63422.4\n486      54825.6\n487      84679.2\n488      32590.8\n489      59960.4\n490      59406.0\n491      47829.6\n492      67010.4\n493      94282.8\n494      26902.8\n495     108360.0\n496      56966.4\n497      50400.0\n498      51596.4\n499      44148.0\n500      91694.4\n501      20577.6\n502      78682.8\n503      56197.2\n504      17593.2\n505      46033.2\n506     103333.2\n507      64807.2\n508      84045.6\n509      36115.2\n510      23194.8\n511      55004.4\n512      67141.2\n513      90331.2\n514      95511.6\n515      22029.6\n516      43071.6\n517      73597.2\n518      91948.8\n519      89766.0\n520      90928.8\n521      57291.6\n522      54171.6\n523       9000.0\n524      39158.4\n525      26484.0\n526      49767.6\n527     101002.8\n528      90842.4\n529      77410.8\n530     108824.4\n531      55317.6\n532      42213.6\n533      29566.8\n534      24510.0\n535      27160.8\n536      94104.0\n537      48912.0\n538      41685.6\n539      65318.4\n540      39661.2\n541      84765.6\n542      75639.6\n543      93997.2\n544      34461.6\n545      18344.4\n546      72568.8\n547      22428.0\n548      64964.4\n549      22441.2\n550      99004.8\n551      43032.0\n552          NaN\n553      53403.6\n554      75847.2\n555      33363.6\n556      18378.0\n557      44305.2\n558      68745.6\n559      87214.8\n560      76664.4\n561      86628.0\n562          NaN\n563      73075.2\n564      74624.4\n565      89857.2\n566      34810.8\n567      60326.4\n568      73941.6\n569      46646.4\n570      77295.6\n571      69524.4\n572      77226.0\n573      87560.4\n574      22428.0\n575      55755.6\n576      31975.2\n577      56822.4\n578      38256.0\n579      75015.6\n580      22551.6\n581      45878.4\n582      57420.0\n583      95916.0\n584      43032.0\n585      51252.0\n586      27364.8\n587      44504.4\n588          NaN\n589      53250.0\n590      48364.8\n591      85720.8\n592      41011.2\n593      54691.2\n594      41294.4\n595      72856.8\n596      23983.2\n597      47877.6\n598      65037.6\n599      73450.8\n600      78882.0\n601     111632.4\n602      71967.6\n603      48121.2\n604      86757.6\n605      69036.0\n606      96477.6\n607      61844.4\n608      95680.8\n609      97988.4\n610      56533.2\n611      80860.8\n612      38968.8\n613      48826.8\n614      77666.4\n615      50259.6\n616      53917.2\n617      25630.8\n618      88245.6\n619      35328.0\n620      81741.6\n621      86485.2\n622      16468.8\n623      70872.0\n624      99781.2\n625      47877.6\n626      42945.6\n627      24232.8\n628      78822.0\n629      73216.8\n630      34130.4\n631      65628.0\n632      96160.8\n633      34376.4\n634      89445.6\n635      19422.0\n636      60400.8\n637      56410.8\n638      22428.0\n639      61774.8\n640      53055.6\n641      90990.0\n642          NaN\n643      86540.4\n644      39456.0\n645      53752.8\n646      98860.8\n647      75744.0\n648      55652.4\n649      70452.0\n650      95302.8\n651      87162.0\n652      40144.8\n653      94424.4\n654      99259.2\n655      53434.8\n656      90831.6\n657      50073.6\n658      65227.2\n659      58915.2\n660      39817.2\n661      49216.8\n662       9000.0\n663      55216.8\n664      75942.0\n665      75566.4\n666      92160.0\n667      61520.4\n668      95763.6\n669      43689.6\n670      67490.4\n671      33984.0\n672      99147.6\n673      84603.6\n674      46308.0\n675      93158.4\n676      30009.6\n677      78379.2\n678      99908.4\n679      73760.4\n680      90339.6\n681      55932.0\n682      73543.2\n683      90932.4\n684      32539.2\n685          NaN\n686      54081.6\n687      70264.8\n688      26392.8\n689      29376.0\n690      71521.2\n691      56017.2\n692      65210.4\n693      32520.0\n694      66340.8\n695     101541.6\n696      69560.4\n697      92757.6\n698      26392.8\n699      85785.6\n700      48764.4\n701      42948.0\n702      29619.6\n703      82915.2\n704      67663.2\n705     136480.8\n706      45344.4\n707      36572.4\n708      40514.4\n709      26215.2\n710      84505.2\n711      88137.6\n712      35712.0\n713      53562.0\n714      50497.2\n715      52365.6\n716      50630.4\n717      32110.8\n718      76431.6\n719      52178.4\n720      81055.2\n721      58502.4\n722      51141.6\n723      44336.4\n724      45309.6\n725      96834.0\n726      60601.2\n727      62175.6\n728      76572.0\n729      59617.2\n730      84654.0\n731      51064.8\n732     102831.6\n733      36018.0\n734      33998.4\n735      15912.0\n736      59371.2\n737      55317.6\n738      53305.2\n739      51128.4\n740      29653.2\n741      77655.6\n742      97252.8\n743      63841.2\n744      93942.0\n745      42408.0\n746      46587.6\n747      26654.4\n748      36111.6\n749      45716.4\n750      85924.8\n751      83281.2\n752      43860.0\n753      87171.6\n754      92823.6\n755      78211.2\n756      50967.6\n757      76816.8\n758      28351.2\n759      86004.0\n760      55932.0\n761      45236.4\n762      51624.0\n763      28832.4\n764     104766.0\n765      61693.2\n766      74190.0\n767      69765.6\n768      83881.2\n769      65052.0\n770      78555.6\n771      42918.0\n772      28270.8\n773      32593.2\n774      97560.0\n775      47322.0\n776      40302.0\n777      86475.6\n778      13214.4\n779      95838.0\n780      87561.6\n781      94072.8\n782      66625.2\n783      43371.6\n784      48530.4\n785      73467.6\n786     104634.0\n787      93414.0\n788      91734.0\n789     112084.8\n790      30848.4\n791      74187.6\n792      73072.8\n793      98816.4\n794      43960.8\n795      88140.0\n796      36878.4\n797      71770.8\n798      52531.2\n799      76572.0\n800      69703.2\n801      25538.4\n802      49530.0\n803      57823.2\n804      28497.6\n805     100594.8\n806      53230.8\n807      44740.8\n808       6777.6\n809      66848.4\n810      79650.0\n811      37078.8\n812      43952.4\n813     100396.8\n814      86226.0\n815      57466.8\n816      99639.6\n817      61821.6\n818     106104.0\n819      72716.4\n820      93319.2\n821      40125.6\n822      92570.4\n823      70849.2\n824      57996.0\n825      75458.4\n826      96013.2\n827      63806.4\n828      64311.6\n829      27532.8\n830      69735.6\n831      47592.0\n832      31821.6\n833      70387.2\n834      59295.6\n835      60627.6\n836      25506.0\n837     110040.0\n838      35457.6\n839      25275.6\n840      37395.6\n841      83918.4\n842      82154.4\n843      40165.2\n844      36560.4\n845      86430.0\n846      82966.8\n847      33685.2\n848     101062.8\n849      31970.4\n850      30351.6\n851      69930.0\n852      88027.2\n853      53270.4\n854      98791.2\n855       7872.0\n856      41055.6\n857      27202.8\n858      33796.8\n859      33686.4\n860      41334.0\n861      93319.2\n862      97656.0\n863          NaN\n864      66298.8\n865      98486.4\n866      67255.2\n867      89056.8\n868     110184.0\n869      89857.2\n870      71096.4\n871      83642.4\n872      33525.6\n873          NaN\n874      67354.8\n875      30531.6\n876      89151.6\n877      26902.8\n878     111039.6\n879      45514.8\n880      63699.6\n881      68065.2\n882      61131.6\n883      96740.4\n884     101802.0\n885      52554.0\n886      20814.0\n887      25074.0\n888      58737.6\n889      97194.0\n890      31784.4\n891      75003.6\n892      44484.0\n893      94099.2\n894     100214.4\n895      80934.0\n896      60536.4\n897      78177.6\n898      31891.2\n899      50914.8\n900      80934.0\n901      70077.6\n902          NaN\n903      75061.2\n904      61158.0\n905      96974.4\n906     188575.2\n907      44312.4\n908      51027.6\n909      46293.6\n910      27709.2\n911      22071.6\n912      44078.4\n913      91850.4\n914      47598.0\n915      78330.0\n916      60874.8\n917      66823.2\n918      32690.4\n919      99603.6\n920      33531.6\n921      37796.4\n922      46032.0\n923      38313.6\n924      40354.8\n925      62060.4\n926      55828.8\n927      61875.6\n928      84771.6\n929      31309.2\n930      21225.6\n931      84109.2\n932      78982.8\n933      89659.2\n934      49384.8\n935      62733.6\n936      55572.0\n937      51320.4\n938      97092.0\n939      82434.0\n940      74152.8\n941     100131.6\n942      31788.0\n943      75294.0\n944      79647.6\n945      32179.2\n946      29047.2\n947      55258.8\n948      28173.6\n949      76010.4\n950     113366.4\n951      90152.4\n952      43580.4\n953      20232.0\n954      46268.4\n955      37389.6\n956      57229.2\n957      42386.4\n958      28468.8\n959      41961.6\n960      56126.4\n961     105214.8\n962      38176.8\n963      81928.8\n964      42235.2\n965      30429.6\n966     188308.8\n967     102517.2\n968     104228.4\n969      82022.4\n970      44502.0\n971      60739.2\n972      58999.2\n973      73778.4\n974      80504.4\n975     107632.8\n976      31021.2\n977      79189.2\n978      52531.2\n979      48295.2\n980      48070.8\n981      24156.0\n982      82418.4\n983      95787.6\n984     100604.4\n985       9633.6\n986      85586.4\n987      72276.0\n988      65102.4\n989      13737.6\n990      20950.8\n991      79983.6\n992      40851.6\n993      26010.0\n994      96886.8\n995      62634.0\n996      83840.4\n997      79239.6\n998      46664.4\n999      80823.6\n1000     84139.2\n1001     69996.0\n1002     29320.8\n1003     61214.4\n1004     68354.4\n1005     46797.6\n1006     77818.8\n1007     20984.4\n1008     80367.6\n1009     89564.4\n1010    107486.4\n1011     61578.0\n1012     32101.2\n1013     42627.6\n1014     48708.0\n1015     49064.4\n1016     68354.4\n1017     26715.6\n1018     61246.8\n1019     79758.0\n1020     33108.0\n1021     66910.8\n1022     67861.2\n1023      4202.4\n1024     94023.6\n1025     49896.0\n1026     42949.2\n1027     52768.8\n1028     96160.8\n1029     98816.4\n1030     65458.8\n1031     52812.0\n1032     59541.6\n1033     66711.6\n1034     65013.6\n1035     59976.0\n1036     82930.8\n1037     51986.4\n1038     97142.4\n1039     81493.2\n1040     44841.6\n1041     87393.6\n1042     87670.8\n1043      9000.0\n1044     52588.8\n1045     53182.8\n1046     30268.8\n1047    100233.6\n1048     80842.8\n1049     40082.4\n1050     64611.6\n1051     59894.4\n1052     95092.8\n1053     55263.6\n1054     60733.2\n1055     81493.2\n1056     66620.4\n1057     95008.8\n1058     89830.8\n1059     83371.2\n1060     67840.8\n1061     78388.8\n1062     86047.2\n1063     96380.4\n1064     66312.0\n1065     25270.8\n1066     55186.8\n1067     74644.8\n1068     58118.4\n1069     57243.6\n1070     97402.8\n1071     74473.2\n1072     71294.4\n1073     56269.2\n1074     63844.8\n1075     67467.6\n1076     98799.6\n1077     94975.2\n1078      9000.0\n1079     18344.4\n1080     44740.8\n1081     58231.2\n1082     88144.8\n1083     70328.4\n1084     60884.4\n1085     48960.0\n1086     54171.6\n1087     71785.2\n1088     47457.6\n1089     82386.0\n1090     50864.4\n1091     46098.0\n1092    100548.0\n1093     90136.8\n1094     27021.6\n1095     35373.6\n1096     59024.4\n1097     64440.0\n1098     50872.8\n1099     23416.8\n1100     39470.4\n1101     85640.4\n1102     41434.8\n1103     78202.8\n1104     41788.8\n1105     79776.0\n1106     90524.4\n1107    112548.0\n1108     39873.6\n1109     41011.2\n1110     68130.0\n1111     96160.8\n1112     63442.8\n1113     48936.0\n1114     54248.4\n1115     27794.4\n1116    108296.4\n1117     92452.8\n1118     72039.6\n1119     54068.4\n1120     43032.0\n1121     72111.6\n1122     65296.8\n1123    105325.2\n1124     44586.0\n1125    104400.0\n1126     56430.0\n1127     56380.8\n1128     51196.8\n1129     58704.0\n1130     38661.6\n1131     75848.4\n1132     40795.2\n1133     36201.6\n1134     29858.4\n1135     69015.6\n1136     75416.4\n1137    108918.0\n1138     64048.8\n1139     76929.6\n1140     80455.2\n1141     44058.0\n1142     49203.6\n1143     45309.6\n1144     66494.4\n1145     26301.6\n1146     73533.6\n1147     21178.8\n1148     48952.8\n1149     32962.8\n1150     55322.4\n1151     63136.8\n1152     87528.0\n1153    184708.8\n1154     39470.4\n1155     68509.2\n1156     52147.2\n1157      9000.0\n1158     60733.2\n1159     61333.2\n1160     29860.8\n1161     51402.0\n1162     40346.4\n1163     41252.4\n1164    103629.6\n1165     69951.6\n1166     63876.0\n1167     26920.8\n1168     63784.8\n1169         NaN\n1170     45260.4\n1171     66254.4\n1172     22773.6\n1173     36334.8\n1174     67604.4\n1175     32288.4\n1176      6366.0\n1177     98042.4\n1178     82491.6\n1179     42235.2\n1180     28771.2\n1181     90184.8\n1182     96687.6\n1183     85071.6\n1184     59526.0\n1185     69292.8\n1186     89901.6\n1187     44350.8\n1188    110989.2\n1189     70020.0\n1190     78583.2\n1191     75384.0\n1192     96474.0\n1193     76760.4\n1194     30156.0\n1195     25626.0\n1196     86182.8\n1197     58782.0\n1198     73747.2\n1199     48847.2\n1200     60739.2\n1201     17418.0\n1202     72182.4\n1203     92671.2\n1204     77754.0\n1205     40574.4\n1206     78932.4\n1207     59266.8\n1208     69246.0\n1209     80190.0\n1210     86660.4\n1211     45430.8\n1212     30654.0\n1213     78969.6\n1214     55218.0\n1215    101943.6\n1216     92378.4\n1217     48794.4\n1218     45810.0\n1219     49021.2\n1220     50400.0\n1221     71020.8\n1222     38023.2\n1223     65770.8\n1224     27160.8\n1225     56317.2\n1226     37908.0\n1227     44348.4\n1228     34148.4\n1229     73212.0\n1230     77870.4\n1231     63116.4\n1232     94546.8\n1233     37011.6\n1234     77828.4\n1235     16348.8\n1236     26208.0\n1237     79771.2\n1238     83050.8\n1239     24216.0\n1240     45840.0\n1241     62588.4\n1242     46470.0\n1243     70298.4\n1244     45312.0\n1245     65217.6\n1246     32264.4\n1247     55378.8\n1248      9000.0\n1249     88939.2\n1250     56134.8\n1251    123230.4\n1252     29858.4\n1253     59613.6\n1254     50425.2\n1255     94161.6\n1256     67096.8\n1257     50914.8\n1258     61980.0\n1259     70585.2\n1260     66675.6\n1261     42949.2\n1262     76609.2\n1263     83766.0\n1264     53943.6\n1265     68528.4\n1266     78976.8\n1267     31314.0\n1268     47995.2\n1269     80427.6\n1270     49972.8\n1271     72238.8\n1272     79200.0\n1273     76609.2\n1274     50220.0\n1275     27997.2\n1276     71910.0\n1277     69170.4\n1278    102744.0\n1279     71082.0\n1280     87670.8\n1281     36313.2\n1282     86590.8\n1283     24216.0\n1284     73699.2\n1285     59600.4\n1286     65084.4\n1287     46735.2\n1288     78768.0\n1289     63424.8\n1290     72193.2\n1291    110054.4\n1292     50413.2\n1293     64030.8\n1294     51621.6\n1295     90928.8\n1296     61834.8\n1297     45664.8\n1298     53956.8\n1299     41184.0\n1300     28461.6\n1301     29203.2\n1302     76276.8\n1303     39801.6\n1304     76609.2\n1305     59122.8\n1306     72589.2\n1307     55327.2\n1308     90932.4\n1309    192963.6\n1310     51068.4\n1311     88429.2\n1312     33466.8\n1313     82418.4\n1314     95292.0\n1315     69044.4\n1316     36441.6\n1317     33704.4\n1318     30492.0\n1319     80670.0\n1320    189279.6\n1321     94198.8\n1322     74246.4\n1323     53414.4\n1324     36627.6\n1325     11666.4\n1326     71704.8\n1327     84385.2\n1328     53271.6\n1329     26475.6\n1330     85328.4\n1331     31280.4\n1332     47906.4\n1333     41076.0\n1334     42769.2\n1335     36357.6\n1336     55612.8\n1337     94196.4\n1338     33279.6\n1339     73500.0\n1340     59602.8\n1341     83962.8\n1342     58118.4\n1343     28596.0\n1344     79015.2\n1345     62251.2\n1346     94112.4\n1347     47749.2\n1348     68563.2\n1349     95760.0\n1350     85165.2\n1351     87084.0\n1352     50439.6\n1353     40102.8\n1354     99098.4\n1355     78896.4\n1356     36608.4\n1357     65036.4\n1358     58465.2\n1359     63879.6\n1360     27064.8\n1361     62440.8\n1362     75566.4\n1363     36421.2\n1364     45835.2\n1365     40308.0\n1366     75414.0\n1367     43476.0\n1368     24231.6\n1369     31788.0\n1370     54603.6\n1371     76908.0\n1372     26868.0\n1373     29714.4\n1374     58118.4\n1375     73086.0\n1376     53190.0\n1377     44370.0\n1378     43290.0\n1379     52990.8\n1380     56017.2\n1381     51027.6\n1382    102885.6\n1383     71262.0\n1384     76057.2\n1385     30981.6\n1386     67861.2\n1387     16854.0\n1388     81777.6\n1389     90410.4\n1390     28748.4\n1391     27997.2\n1392     68535.6\n1393     80720.4\n1394     10584.0\n1395     56080.8\n1396     40888.8\n1397     38763.6\n1398     65340.0\n1399     36961.2\n1400     74300.4\n1401     96080.4\n1402     19951.2\n1403     89982.0\n1404     37674.0\n1405     23412.0\n1406     76431.6\n1407     85669.2\n1408     47906.4\n1409     98912.4\n1410     74802.0\n1411     62540.4\n1412     63496.8\n1413     99774.0\n1414     41899.2\n1415     93577.2\n1416     55648.8\n1417     90952.8\n1418     91368.0\n1419     55612.8\n1420     55125.6\n1421     60002.4\n1422     27364.8\n1423     24704.4\n1424    104625.6\n1425     77112.0\n1426     44133.6\n1427    109406.4\n1428     51277.2\n1429     39172.8\n1430     31158.0\n1431     46735.2\n1432     89028.0\n1433     79803.6\n1434     94452.0\n1435     85012.8\n1436     68486.4\n1437     42213.6\n1438     45159.6\n1439     33898.8\n1440     18859.2\n1441     60240.0\n1442     72652.8\n1443     68454.0\n1444     39542.4\n1445     46416.0\n1446     23688.0\n1447     52322.4\n1448     82930.8\n1449     91480.8\n1450     69277.2\n1451     29512.8\n1452     34516.8\n1453     54219.6\n1454     43329.6\n1455     39099.6\n1456    108327.6\n1457     18067.2\n1458     81126.0\n1459     30378.0\n1460     59452.8\n1461     47715.6\n1462     93117.6\n1463     36115.2\n1464     41953.2\n1465     74959.2\n1466     46419.6\n1467     90580.8\n1468     36475.2\n1469     44551.2\n1470     35524.8\n1471     89151.6\n1472     84147.6\n1473     18414.0\n1474     38575.2\n1475     38607.6\n1476     84454.8\n1477     84776.4\n1478     99360.0\n1479     58992.0\n1480     35678.4\n1481     57830.4\n1482     53986.8\n1483     29134.8\n1484     86709.6\n1485     85063.2\n1486     82970.4\n1487     36993.6\n1488     75042.0\n1489     79711.2\n1490    109278.0\n1491     49724.4\n1492     74998.8\n1493     45236.4\n1494     71512.8\n1495     78590.4\n1496     27926.4\n1497      9000.0\n1498     45565.2\n1499     84799.2\n1500     84045.6\n1501     57684.0\n1502     91206.0\n1503     36986.4\n1504     37951.2\n1505     98420.4\n1506    104605.2\n1507    103708.8\n1508     36810.0\n1509     85108.8\n1510     79563.6\n1511     46785.6\n1512     79161.6\n1513     41788.8\n1514     30610.8\n1515     91106.4\n1516     84427.2\n1517     72578.4\n1518     85226.4\n1519     63903.6\n1520     76797.6\n1521     34128.0\n1522     43032.0\n1523     92210.4\n1524     82388.4\n1525     49742.4\n1526     49224.0\n1527     64513.2\n1528     35322.0\n1529     62643.6\n1530     99927.6\n1531     77953.2\n1532         NaN\n1533     36097.2\n1534     69373.2\n1535     38113.2\n1536    126565.2\n1537     88804.8\n1538     23587.2\n1539     71150.4\n1540     85798.8\n1541     54910.8\n1542      8572.8\n1543    100458.0\n1544     78369.6\n1545     95347.2\n1546     24621.6\n1547     85395.6\n1548      2936.4\n1549     79996.8\n1550     32344.8\n1551     20312.4\n1552     50592.0\n1553     62119.2\n1554     74469.6\n1555     50677.2\n1556     75597.6\n1557     70430.4\n1558     23296.8\n1559     28886.4\n1560     34429.2\n1561     90313.2\n1562     50360.4\n1563     52893.6\n1564     74190.0\n1565     80857.2\n1566     58701.6\n1567     27873.6\nName: Disposable_Income, dtype: float64"
                    },
                    "execution_count": 5,
                    "metadata": {},
                    "output_type": "execute_result"
                }
            ],
            "source": "vibr['Disposable_Income']"
        },
        {
            "cell_type": "markdown",
            "metadata": {},
            "source": "# Dealing with missing values"
        },
        {
            "cell_type": "code",
            "execution_count": 4,
            "metadata": {
                "scrolled": true
            },
            "outputs": [],
            "source": "import numpy as np\n\nmean = 62381\nvibr['Disposable_Income'].replace(np.nan, mean, inplace=True)"
        },
        {
            "cell_type": "code",
            "execution_count": 6,
            "metadata": {
                "collapsed": true
            },
            "outputs": [
                {
                    "data": {
                        "text/plain": "0    1329\n1     239\nName: Response, dtype: int64"
                    },
                    "execution_count": 6,
                    "metadata": {},
                    "output_type": "execute_result"
                }
            ],
            "source": "vibr['Response'].value_counts()"
        },
        {
            "cell_type": "markdown",
            "metadata": {},
            "source": "# Exploration"
        },
        {
            "cell_type": "code",
            "execution_count": 6,
            "metadata": {
                "collapsed": true
            },
            "outputs": [
                {
                    "data": {
                        "text/plain": "Education_Level  Response\n2n Cycle         0           0.901408\n                 1           0.098592\nBasic            0           0.973684\n                 1           0.026316\nGraduation       0           0.856608\n                 1           0.143392\nMaster           0           0.845528\n                 1           0.154472\nPhD              0           0.791176\n                 1           0.208824\nName: Response, dtype: float64"
                    },
                    "execution_count": 6,
                    "metadata": {},
                    "output_type": "execute_result"
                }
            ],
            "source": "vibr.groupby(['Education_Level'])['Response'].value_counts(normalize=True)"
        },
        {
            "cell_type": "code",
            "execution_count": 8,
            "metadata": {
                "collapsed": true
            },
            "outputs": [
                {
                    "data": {
                        "text/plain": "Cmp1Accepted  Response\n0             0           0.880027\n              1           0.119973\n1             1           0.623762\n              0           0.376238\nName: Response, dtype: float64"
                    },
                    "execution_count": 8,
                    "metadata": {},
                    "output_type": "execute_result"
                }
            ],
            "source": "vibr.groupby(['Cmp1Accepted'])['Response'].value_counts(normalize=True)"
        },
        {
            "cell_type": "code",
            "execution_count": 9,
            "metadata": {
                "collapsed": true
            },
            "outputs": [
                {
                    "data": {
                        "text/plain": "Cmp2Accepted  Response\n0             0           0.854005\n              1           0.145995\n1             1           0.650000\n              0           0.350000\nName: Response, dtype: float64"
                    },
                    "execution_count": 9,
                    "metadata": {},
                    "output_type": "execute_result"
                }
            ],
            "source": "vibr.groupby(['Cmp2Accepted'])['Response'].value_counts(normalize=True)"
        },
        {
            "cell_type": "code",
            "execution_count": 10,
            "metadata": {
                "collapsed": true
            },
            "outputs": [
                {
                    "data": {
                        "text/plain": "Cmp3Accepted  Response\n0             0           0.873453\n              1           0.126547\n1             0           0.517544\n              1           0.482456\nName: Response, dtype: float64"
                    },
                    "execution_count": 10,
                    "metadata": {},
                    "output_type": "execute_result"
                }
            ],
            "source": "vibr.groupby(['Cmp3Accepted'])['Response'].value_counts(normalize=True)"
        },
        {
            "cell_type": "code",
            "execution_count": 11,
            "metadata": {
                "collapsed": true
            },
            "outputs": [
                {
                    "data": {
                        "text/plain": "Cmp4Accepted  Response\n0             0           0.867950\n              1           0.132050\n1             0           0.587719\n              1           0.412281\nName: Response, dtype: float64"
                    },
                    "execution_count": 11,
                    "metadata": {},
                    "output_type": "execute_result"
                }
            ],
            "source": "vibr.groupby(['Cmp4Accepted'])['Response'].value_counts(normalize=True)"
        },
        {
            "cell_type": "code",
            "execution_count": 12,
            "metadata": {
                "collapsed": true
            },
            "outputs": [
                {
                    "data": {
                        "text/plain": "Cmp5Accepted  Response\n0             0           0.885576\n              1           0.114424\n1             1           0.587302\n              0           0.412698\nName: Response, dtype: float64"
                    },
                    "execution_count": 12,
                    "metadata": {},
                    "output_type": "execute_result"
                }
            ],
            "source": "vibr.groupby(['Cmp5Accepted'])['Response'].value_counts(normalize=True)"
        },
        {
            "cell_type": "code",
            "execution_count": 13,
            "metadata": {
                "collapsed": true
            },
            "outputs": [
                {
                    "data": {
                        "text/plain": "Any_Complain  Response\n0             0           0.846945\n              1           0.153055\n1             0           0.923077\n              1           0.076923\nName: Response, dtype: float64"
                    },
                    "execution_count": 13,
                    "metadata": {},
                    "output_type": "execute_result"
                }
            ],
            "source": "vibr.groupby(['Any_Complain'])['Response'].value_counts(normalize=True)"
        },
        {
            "cell_type": "code",
            "execution_count": 4,
            "metadata": {
                "collapsed": true
            },
            "outputs": [
                {
                    "data": {
                        "text/plain": "Marital_Status  Response\nAbsurd          1           1.000000\nAlone           0           0.666667\n                1           0.333333\nDivorced        0           0.798742\n                1           0.201258\nMarried         0           0.873171\n                1           0.126829\nSingle          0           0.784195\n                1           0.215805\nTogether        0           0.899756\n                1           0.100244\nWidow           0           0.720000\n                1           0.280000\nYOLO            0           0.500000\n                1           0.500000\nName: Response, dtype: float64"
                    },
                    "execution_count": 4,
                    "metadata": {},
                    "output_type": "execute_result"
                }
            ],
            "source": "vibr.groupby(['Marital_Status'])['Response'].value_counts(normalize=True)"
        },
        {
            "cell_type": "code",
            "execution_count": 5,
            "metadata": {
                "collapsed": true
            },
            "outputs": [
                {
                    "data": {
                        "text/plain": "WebVisitsMonth  Response\n0               0           1.000000\n1               0           0.801980\n                1           0.198020\n2               0           0.780000\n                1           0.220000\n3               0           0.829932\n                1           0.170068\n4               0           0.863014\n                1           0.136986\n5               0           0.913043\n                1           0.086957\n6               0           0.860000\n                1           0.140000\n7               0           0.886121\n                1           0.113879\n8               0           0.844828\n                1           0.155172\n9               0           0.627119\n                1           0.372881\n10              0           1.000000\n13              0           1.000000\n14              0           1.000000\n17              0           1.000000\n19              0           1.000000\n20              0           1.000000\nName: Response, dtype: float64"
                    },
                    "execution_count": 5,
                    "metadata": {},
                    "output_type": "execute_result"
                }
            ],
            "source": "vibr.groupby(['WebVisitsMonth'])['Response'].value_counts(normalize=True)"
        },
        {
            "cell_type": "markdown",
            "metadata": {},
            "source": "# Feature selection and one hot encoding"
        },
        {
            "cell_type": "code",
            "execution_count": 14,
            "metadata": {
                "collapsed": true
            },
            "outputs": [
                {
                    "data": {
                        "text/html": "<div>\n<style scoped>\n    .dataframe tbody tr th:only-of-type {\n        vertical-align: middle;\n    }\n\n    .dataframe tbody tr th {\n        vertical-align: top;\n    }\n\n    .dataframe thead th {\n        text-align: right;\n    }\n</style>\n<table border=\"1\" class=\"dataframe\">\n  <thead>\n    <tr style=\"text-align: right;\">\n      <th></th>\n      <th>Marital_Status</th>\n      <th>Disposable_Income</th>\n      <th>WebPurchases</th>\n      <th>CatalogPurchases</th>\n      <th>StorePurchases</th>\n      <th>Recency</th>\n      <th>Amount_on_GoldProds</th>\n      <th>Cmp1Accepted</th>\n      <th>Cmp2Accepted</th>\n      <th>Cmp3Accepted</th>\n      <th>Cmp4Accepted</th>\n      <th>Cmp5Accepted</th>\n      <th>Any_Complain</th>\n      <th>Education_Level</th>\n    </tr>\n  </thead>\n  <tbody>\n    <tr>\n      <th>0</th>\n      <td>Divorced</td>\n      <td>77504.4</td>\n      <td>1</td>\n      <td>1</td>\n      <td>4</td>\n      <td>56</td>\n      <td>20</td>\n      <td>0</td>\n      <td>0</td>\n      <td>0</td>\n      <td>0</td>\n      <td>0</td>\n      <td>0</td>\n      <td>Graduation</td>\n    </tr>\n    <tr>\n      <th>1</th>\n      <td>Together</td>\n      <td>56784.0</td>\n      <td>5</td>\n      <td>1</td>\n      <td>8</td>\n      <td>17</td>\n      <td>19</td>\n      <td>0</td>\n      <td>0</td>\n      <td>0</td>\n      <td>0</td>\n      <td>0</td>\n      <td>0</td>\n      <td>Graduation</td>\n    </tr>\n    <tr>\n      <th>2</th>\n      <td>Single</td>\n      <td>103714.8</td>\n      <td>7</td>\n      <td>4</td>\n      <td>7</td>\n      <td>17</td>\n      <td>37</td>\n      <td>1</td>\n      <td>0</td>\n      <td>0</td>\n      <td>0</td>\n      <td>0</td>\n      <td>0</td>\n      <td>Graduation</td>\n    </tr>\n    <tr>\n      <th>3</th>\n      <td>Single</td>\n      <td>46311.6</td>\n      <td>4</td>\n      <td>1</td>\n      <td>3</td>\n      <td>49</td>\n      <td>24</td>\n      <td>0</td>\n      <td>0</td>\n      <td>0</td>\n      <td>0</td>\n      <td>0</td>\n      <td>0</td>\n      <td>2n Cycle</td>\n    </tr>\n    <tr>\n      <th>4</th>\n      <td>Married</td>\n      <td>87486.0</td>\n      <td>3</td>\n      <td>7</td>\n      <td>9</td>\n      <td>59</td>\n      <td>203</td>\n      <td>1</td>\n      <td>0</td>\n      <td>0</td>\n      <td>0</td>\n      <td>0</td>\n      <td>0</td>\n      <td>Graduation</td>\n    </tr>\n  </tbody>\n</table>\n</div>",
                        "text/plain": "  Marital_Status  Disposable_Income  WebPurchases  CatalogPurchases  \\\n0       Divorced            77504.4             1                 1   \n1       Together            56784.0             5                 1   \n2         Single           103714.8             7                 4   \n3         Single            46311.6             4                 1   \n4        Married            87486.0             3                 7   \n\n   StorePurchases  Recency  Amount_on_GoldProds  Cmp1Accepted  Cmp2Accepted  \\\n0               4       56                   20             0             0   \n1               8       17                   19             0             0   \n2               7       17                   37             1             0   \n3               3       49                   24             0             0   \n4               9       59                  203             1             0   \n\n   Cmp3Accepted  Cmp4Accepted  Cmp5Accepted  Any_Complain Education_Level  \n0             0             0             0             0      Graduation  \n1             0             0             0             0      Graduation  \n2             0             0             0             0      Graduation  \n3             0             0             0             0        2n Cycle  \n4             0             0             0             0      Graduation  "
                    },
                    "execution_count": 14,
                    "metadata": {},
                    "output_type": "execute_result"
                }
            ],
            "source": "vibr1 = vibr[['Marital_Status','Disposable_Income','WebPurchases','CatalogPurchases','StorePurchases','Recency','Amount_on_GoldProds','Cmp1Accepted','Cmp2Accepted','Cmp3Accepted','Cmp4Accepted','Cmp5Accepted','Any_Complain','Education_Level']]\nvibr1.head()"
        },
        {
            "cell_type": "code",
            "execution_count": null,
            "metadata": {},
            "outputs": [],
            "source": "vibr2 = vibr[['Marital_Status','Disposable_Income','WebPurchases','CatalogPurchases','StorePurchases','Recency','Amount_on_GoldProds','Cmp1Accepted','Cmp2Accepted','Cmp3Accepted','Cmp4Accepted','Cmp5Accepted','Any_Complain','Education_Level']]\nvibr2.head()"
        },
        {
            "cell_type": "code",
            "execution_count": 15,
            "metadata": {
                "collapsed": true
            },
            "outputs": [
                {
                    "data": {
                        "text/html": "<div>\n<style scoped>\n    .dataframe tbody tr th:only-of-type {\n        vertical-align: middle;\n    }\n\n    .dataframe tbody tr th {\n        vertical-align: top;\n    }\n\n    .dataframe thead th {\n        text-align: right;\n    }\n</style>\n<table border=\"1\" class=\"dataframe\">\n  <thead>\n    <tr style=\"text-align: right;\">\n      <th></th>\n      <th>Disposable_Income</th>\n      <th>WebPurchases</th>\n      <th>CatalogPurchases</th>\n      <th>StorePurchases</th>\n      <th>Recency</th>\n      <th>Amount_on_GoldProds</th>\n      <th>Cmp1Accepted</th>\n      <th>Cmp2Accepted</th>\n      <th>Cmp3Accepted</th>\n      <th>Cmp4Accepted</th>\n      <th>Cmp5Accepted</th>\n      <th>Any_Complain</th>\n      <th>Absurd</th>\n      <th>Divorced</th>\n      <th>Married</th>\n      <th>Single</th>\n      <th>Together</th>\n      <th>Widow</th>\n      <th>2n Cycle</th>\n      <th>Basic</th>\n      <th>Graduation</th>\n      <th>Master</th>\n      <th>PhD</th>\n    </tr>\n  </thead>\n  <tbody>\n    <tr>\n      <th>0</th>\n      <td>77504.4</td>\n      <td>1</td>\n      <td>1</td>\n      <td>4</td>\n      <td>56</td>\n      <td>20</td>\n      <td>0</td>\n      <td>0</td>\n      <td>0</td>\n      <td>0</td>\n      <td>0</td>\n      <td>0</td>\n      <td>0</td>\n      <td>1</td>\n      <td>0</td>\n      <td>0</td>\n      <td>0</td>\n      <td>0</td>\n      <td>0</td>\n      <td>0</td>\n      <td>1</td>\n      <td>0</td>\n      <td>0</td>\n    </tr>\n    <tr>\n      <th>1</th>\n      <td>56784.0</td>\n      <td>5</td>\n      <td>1</td>\n      <td>8</td>\n      <td>17</td>\n      <td>19</td>\n      <td>0</td>\n      <td>0</td>\n      <td>0</td>\n      <td>0</td>\n      <td>0</td>\n      <td>0</td>\n      <td>0</td>\n      <td>0</td>\n      <td>0</td>\n      <td>0</td>\n      <td>1</td>\n      <td>0</td>\n      <td>0</td>\n      <td>0</td>\n      <td>1</td>\n      <td>0</td>\n      <td>0</td>\n    </tr>\n    <tr>\n      <th>2</th>\n      <td>103714.8</td>\n      <td>7</td>\n      <td>4</td>\n      <td>7</td>\n      <td>17</td>\n      <td>37</td>\n      <td>1</td>\n      <td>0</td>\n      <td>0</td>\n      <td>0</td>\n      <td>0</td>\n      <td>0</td>\n      <td>0</td>\n      <td>0</td>\n      <td>0</td>\n      <td>1</td>\n      <td>0</td>\n      <td>0</td>\n      <td>0</td>\n      <td>0</td>\n      <td>1</td>\n      <td>0</td>\n      <td>0</td>\n    </tr>\n    <tr>\n      <th>3</th>\n      <td>46311.6</td>\n      <td>4</td>\n      <td>1</td>\n      <td>3</td>\n      <td>49</td>\n      <td>24</td>\n      <td>0</td>\n      <td>0</td>\n      <td>0</td>\n      <td>0</td>\n      <td>0</td>\n      <td>0</td>\n      <td>0</td>\n      <td>0</td>\n      <td>0</td>\n      <td>1</td>\n      <td>0</td>\n      <td>0</td>\n      <td>1</td>\n      <td>0</td>\n      <td>0</td>\n      <td>0</td>\n      <td>0</td>\n    </tr>\n    <tr>\n      <th>4</th>\n      <td>87486.0</td>\n      <td>3</td>\n      <td>7</td>\n      <td>9</td>\n      <td>59</td>\n      <td>203</td>\n      <td>1</td>\n      <td>0</td>\n      <td>0</td>\n      <td>0</td>\n      <td>0</td>\n      <td>0</td>\n      <td>0</td>\n      <td>0</td>\n      <td>1</td>\n      <td>0</td>\n      <td>0</td>\n      <td>0</td>\n      <td>0</td>\n      <td>0</td>\n      <td>1</td>\n      <td>0</td>\n      <td>0</td>\n    </tr>\n  </tbody>\n</table>\n</div>",
                        "text/plain": "   Disposable_Income  WebPurchases  CatalogPurchases  StorePurchases  Recency  \\\n0            77504.4             1                 1               4       56   \n1            56784.0             5                 1               8       17   \n2           103714.8             7                 4               7       17   \n3            46311.6             4                 1               3       49   \n4            87486.0             3                 7               9       59   \n\n   Amount_on_GoldProds  Cmp1Accepted  Cmp2Accepted  Cmp3Accepted  \\\n0                   20             0             0             0   \n1                   19             0             0             0   \n2                   37             1             0             0   \n3                   24             0             0             0   \n4                  203             1             0             0   \n\n   Cmp4Accepted  Cmp5Accepted  Any_Complain  Absurd  Divorced  Married  \\\n0             0             0             0       0         1        0   \n1             0             0             0       0         0        0   \n2             0             0             0       0         0        0   \n3             0             0             0       0         0        0   \n4             0             0             0       0         0        1   \n\n   Single  Together  Widow  2n Cycle  Basic  Graduation  Master  PhD  \n0       0         0      0         0      0           1       0    0  \n1       0         1      0         0      0           1       0    0  \n2       1         0      0         0      0           1       0    0  \n3       1         0      0         1      0           0       0    0  \n4       0         0      0         0      0           1       0    0  "
                    },
                    "execution_count": 15,
                    "metadata": {},
                    "output_type": "execute_result"
                }
            ],
            "source": "vibr1 = pd.concat([vibr1,pd.get_dummies(vibr1['Marital_Status'])], axis=1)\nvibr1 = pd.concat([vibr1,pd.get_dummies(vibr1['Education_Level'])], axis=1)\nvibr1.drop(\"Marital_Status\", axis = 1, inplace=True)\nvibr1.drop(\"Education_Level\", axis = 1, inplace=True)\nvibr1.drop(\"YOLO\", axis = 1, inplace=True)\nvibr1.drop(\"Alone\", axis = 1, inplace=True)\nvibr1.head()"
        },
        {
            "cell_type": "code",
            "execution_count": 16,
            "metadata": {},
            "outputs": [
                {
                    "data": {
                        "text/plain": "(1568, 23)"
                    },
                    "execution_count": 16,
                    "metadata": {},
                    "output_type": "execute_result"
                }
            ],
            "source": "vibr1.shape"
        },
        {
            "cell_type": "code",
            "execution_count": 17,
            "metadata": {},
            "outputs": [
                {
                    "data": {
                        "text/plain": "array([0, 0, 1, 0, 0])"
                    },
                    "execution_count": 17,
                    "metadata": {},
                    "output_type": "execute_result"
                }
            ],
            "source": "y = vibr['Response'].values\ny[0:5]"
        },
        {
            "cell_type": "code",
            "execution_count": 18,
            "metadata": {
                "collapsed": true
            },
            "outputs": [
                {
                    "data": {
                        "text/html": "<div>\n<style scoped>\n    .dataframe tbody tr th:only-of-type {\n        vertical-align: middle;\n    }\n\n    .dataframe tbody tr th {\n        vertical-align: top;\n    }\n\n    .dataframe thead th {\n        text-align: right;\n    }\n</style>\n<table border=\"1\" class=\"dataframe\">\n  <thead>\n    <tr style=\"text-align: right;\">\n      <th></th>\n      <th>Disposable_Income</th>\n      <th>WebPurchases</th>\n      <th>CatalogPurchases</th>\n      <th>StorePurchases</th>\n      <th>Recency</th>\n      <th>Amount_on_GoldProds</th>\n      <th>Cmp1Accepted</th>\n      <th>Cmp2Accepted</th>\n      <th>Cmp3Accepted</th>\n      <th>Cmp4Accepted</th>\n      <th>Cmp5Accepted</th>\n      <th>Any_Complain</th>\n      <th>Absurd</th>\n      <th>Divorced</th>\n      <th>Married</th>\n      <th>Single</th>\n      <th>Together</th>\n      <th>Widow</th>\n      <th>2n Cycle</th>\n      <th>Basic</th>\n      <th>Graduation</th>\n      <th>Master</th>\n      <th>PhD</th>\n    </tr>\n  </thead>\n  <tbody>\n    <tr>\n      <th>0</th>\n      <td>77504.4</td>\n      <td>1</td>\n      <td>1</td>\n      <td>4</td>\n      <td>56</td>\n      <td>20</td>\n      <td>0</td>\n      <td>0</td>\n      <td>0</td>\n      <td>0</td>\n      <td>0</td>\n      <td>0</td>\n      <td>0</td>\n      <td>1</td>\n      <td>0</td>\n      <td>0</td>\n      <td>0</td>\n      <td>0</td>\n      <td>0</td>\n      <td>0</td>\n      <td>1</td>\n      <td>0</td>\n      <td>0</td>\n    </tr>\n    <tr>\n      <th>1</th>\n      <td>56784.0</td>\n      <td>5</td>\n      <td>1</td>\n      <td>8</td>\n      <td>17</td>\n      <td>19</td>\n      <td>0</td>\n      <td>0</td>\n      <td>0</td>\n      <td>0</td>\n      <td>0</td>\n      <td>0</td>\n      <td>0</td>\n      <td>0</td>\n      <td>0</td>\n      <td>0</td>\n      <td>1</td>\n      <td>0</td>\n      <td>0</td>\n      <td>0</td>\n      <td>1</td>\n      <td>0</td>\n      <td>0</td>\n    </tr>\n    <tr>\n      <th>2</th>\n      <td>103714.8</td>\n      <td>7</td>\n      <td>4</td>\n      <td>7</td>\n      <td>17</td>\n      <td>37</td>\n      <td>1</td>\n      <td>0</td>\n      <td>0</td>\n      <td>0</td>\n      <td>0</td>\n      <td>0</td>\n      <td>0</td>\n      <td>0</td>\n      <td>0</td>\n      <td>1</td>\n      <td>0</td>\n      <td>0</td>\n      <td>0</td>\n      <td>0</td>\n      <td>1</td>\n      <td>0</td>\n      <td>0</td>\n    </tr>\n    <tr>\n      <th>3</th>\n      <td>46311.6</td>\n      <td>4</td>\n      <td>1</td>\n      <td>3</td>\n      <td>49</td>\n      <td>24</td>\n      <td>0</td>\n      <td>0</td>\n      <td>0</td>\n      <td>0</td>\n      <td>0</td>\n      <td>0</td>\n      <td>0</td>\n      <td>0</td>\n      <td>0</td>\n      <td>1</td>\n      <td>0</td>\n      <td>0</td>\n      <td>1</td>\n      <td>0</td>\n      <td>0</td>\n      <td>0</td>\n      <td>0</td>\n    </tr>\n    <tr>\n      <th>4</th>\n      <td>87486.0</td>\n      <td>3</td>\n      <td>7</td>\n      <td>9</td>\n      <td>59</td>\n      <td>203</td>\n      <td>1</td>\n      <td>0</td>\n      <td>0</td>\n      <td>0</td>\n      <td>0</td>\n      <td>0</td>\n      <td>0</td>\n      <td>0</td>\n      <td>1</td>\n      <td>0</td>\n      <td>0</td>\n      <td>0</td>\n      <td>0</td>\n      <td>0</td>\n      <td>1</td>\n      <td>0</td>\n      <td>0</td>\n    </tr>\n  </tbody>\n</table>\n</div>",
                        "text/plain": "   Disposable_Income  WebPurchases  CatalogPurchases  StorePurchases  Recency  \\\n0            77504.4             1                 1               4       56   \n1            56784.0             5                 1               8       17   \n2           103714.8             7                 4               7       17   \n3            46311.6             4                 1               3       49   \n4            87486.0             3                 7               9       59   \n\n   Amount_on_GoldProds  Cmp1Accepted  Cmp2Accepted  Cmp3Accepted  \\\n0                   20             0             0             0   \n1                   19             0             0             0   \n2                   37             1             0             0   \n3                   24             0             0             0   \n4                  203             1             0             0   \n\n   Cmp4Accepted  Cmp5Accepted  Any_Complain  Absurd  Divorced  Married  \\\n0             0             0             0       0         1        0   \n1             0             0             0       0         0        0   \n2             0             0             0       0         0        0   \n3             0             0             0       0         0        0   \n4             0             0             0       0         0        1   \n\n   Single  Together  Widow  2n Cycle  Basic  Graduation  Master  PhD  \n0       0         0      0         0      0           1       0    0  \n1       0         1      0         0      0           1       0    0  \n2       1         0      0         0      0           1       0    0  \n3       1         0      0         1      0           0       0    0  \n4       0         0      0         0      0           1       0    0  "
                    },
                    "execution_count": 18,
                    "metadata": {},
                    "output_type": "execute_result"
                }
            ],
            "source": "X = vibr1\nX[0:5]"
        },
        {
            "cell_type": "markdown",
            "metadata": {},
            "source": "# Normalization"
        },
        {
            "cell_type": "code",
            "execution_count": 19,
            "metadata": {},
            "outputs": [],
            "source": "from sklearn import preprocessing\nfrom sklearn.model_selection import train_test_split\nfrom sklearn.neighbors import KNeighborsClassifier\nfrom sklearn import metrics"
        },
        {
            "cell_type": "code",
            "execution_count": 20,
            "metadata": {},
            "outputs": [],
            "source": "X= preprocessing.StandardScaler().fit(X).transform(X)"
        },
        {
            "cell_type": "markdown",
            "metadata": {},
            "source": "# Classification"
        },
        {
            "cell_type": "code",
            "execution_count": 21,
            "metadata": {},
            "outputs": [
                {
                    "name": "stdout",
                    "output_type": "stream",
                    "text": "Train set: (1254, 23) (1254,)\nTest set: (314, 23) (314,)\n"
                }
            ],
            "source": "X_train1, X_test1, y_train1, y_test1 = train_test_split( X, y, test_size=0.2, random_state=4)\nprint ('Train set:', X_train1.shape,  y_train1.shape)\nprint ('Test set:', X_test1.shape,  y_test1.shape)"
        },
        {
            "cell_type": "code",
            "execution_count": 22,
            "metadata": {},
            "outputs": [],
            "source": "Ks = 200\nmean_acc = np.zeros((Ks-1))\nstd_acc = np.zeros((Ks-1))\n\nfor n in range(1,Ks):\n    \n     \n    MyLady = KNeighborsClassifier(n_neighbors = n).fit(X_train1,y_train1)\n    yhat1=MyLady.predict(X_test1)\n    mean_acc[n-1] = metrics.accuracy_score(y_test1, yhat1)\n\n    \n    std_acc[n-1]=np.std(yhat1==y_test1)/np.sqrt(yhat1.shape[0])\n"
        },
        {
            "cell_type": "code",
            "execution_count": 23,
            "metadata": {
                "scrolled": true
            },
            "outputs": [
                {
                    "name": "stdout",
                    "output_type": "stream",
                    "text": "The best accuracy was with 0.856687898089172 with k= 22\n"
                }
            ],
            "source": "print( \"The best accuracy was with\", mean_acc.max(), \"with k=\", mean_acc.argmax()+1)"
        },
        {
            "cell_type": "markdown",
            "metadata": {},
            "source": "# Dealing with main test data"
        },
        {
            "cell_type": "code",
            "execution_count": 24,
            "metadata": {
                "collapsed": true
            },
            "outputs": [
                {
                    "data": {
                        "text/html": "<div>\n<style scoped>\n    .dataframe tbody tr th:only-of-type {\n        vertical-align: middle;\n    }\n\n    .dataframe tbody tr th {\n        vertical-align: top;\n    }\n\n    .dataframe thead th {\n        text-align: right;\n    }\n</style>\n<table border=\"1\" class=\"dataframe\">\n  <thead>\n    <tr style=\"text-align: right;\">\n      <th></th>\n      <th>ID</th>\n      <th>Year_of_Birth</th>\n      <th>Education_Level</th>\n      <th>Marital_Status</th>\n      <th>Disposable_Income</th>\n      <th>No_of_Kids_in_home</th>\n      <th>No_of_Teen_in_home</th>\n      <th>Date_Customer</th>\n      <th>Recency</th>\n      <th>Discounted_Purchases</th>\n      <th>WebPurchases</th>\n      <th>CatalogPurchases</th>\n      <th>StorePurchases</th>\n      <th>Amount_on_Wines</th>\n      <th>Amount_on_Fruits</th>\n      <th>Amount_on_MeatProducts</th>\n      <th>Amount_on_FishProducts</th>\n      <th>Amount_on_SweetProducts</th>\n      <th>Amount_on_GoldProds</th>\n      <th>WebVisitsMonth</th>\n      <th>Cmp3Accepted</th>\n      <th>Cmp4Accepted</th>\n      <th>Cmp5Accepted</th>\n      <th>Cmp1Accepted</th>\n      <th>Cmp2Accepted</th>\n      <th>Any_Complain</th>\n    </tr>\n  </thead>\n  <tbody>\n    <tr>\n      <th>0</th>\n      <td>ID_ZPMABNVX</td>\n      <td>1954</td>\n      <td>Graduation</td>\n      <td>Single</td>\n      <td>48556.8</td>\n      <td>0</td>\n      <td>1</td>\n      <td>11-01-2013</td>\n      <td>85</td>\n      <td>6</td>\n      <td>8</td>\n      <td>2</td>\n      <td>8</td>\n      <td>429</td>\n      <td>20</td>\n      <td>118</td>\n      <td>7</td>\n      <td>23</td>\n      <td>41</td>\n      <td>8</td>\n      <td>0</td>\n      <td>0</td>\n      <td>0</td>\n      <td>0</td>\n      <td>0</td>\n      <td>0</td>\n    </tr>\n    <tr>\n      <th>1</th>\n      <td>ID_WFE91NAA</td>\n      <td>1961</td>\n      <td>Graduation</td>\n      <td>Widow</td>\n      <td>57499.2</td>\n      <td>0</td>\n      <td>1</td>\n      <td>22-11-2012</td>\n      <td>79</td>\n      <td>5</td>\n      <td>7</td>\n      <td>4</td>\n      <td>6</td>\n      <td>510</td>\n      <td>3</td>\n      <td>26</td>\n      <td>0</td>\n      <td>0</td>\n      <td>75</td>\n      <td>6</td>\n      <td>0</td>\n      <td>1</td>\n      <td>0</td>\n      <td>0</td>\n      <td>0</td>\n      <td>0</td>\n    </tr>\n    <tr>\n      <th>2</th>\n      <td>ID_JV11RBRK</td>\n      <td>1973</td>\n      <td>Basic</td>\n      <td>Married</td>\n      <td>17025.6</td>\n      <td>0</td>\n      <td>0</td>\n      <td>28-02-2013</td>\n      <td>47</td>\n      <td>1</td>\n      <td>2</td>\n      <td>0</td>\n      <td>4</td>\n      <td>7</td>\n      <td>10</td>\n      <td>11</td>\n      <td>16</td>\n      <td>12</td>\n      <td>27</td>\n      <td>6</td>\n      <td>0</td>\n      <td>0</td>\n      <td>0</td>\n      <td>0</td>\n      <td>0</td>\n      <td>0</td>\n    </tr>\n    <tr>\n      <th>3</th>\n      <td>ID_6B7SVKY9</td>\n      <td>1970</td>\n      <td>Graduation</td>\n      <td>Together</td>\n      <td>91983.6</td>\n      <td>0</td>\n      <td>0</td>\n      <td>16-08-2013</td>\n      <td>98</td>\n      <td>1</td>\n      <td>4</td>\n      <td>7</td>\n      <td>11</td>\n      <td>741</td>\n      <td>66</td>\n      <td>946</td>\n      <td>219</td>\n      <td>189</td>\n      <td>126</td>\n      <td>2</td>\n      <td>0</td>\n      <td>0</td>\n      <td>1</td>\n      <td>1</td>\n      <td>0</td>\n      <td>0</td>\n    </tr>\n    <tr>\n      <th>4</th>\n      <td>ID_GOVUZ545</td>\n      <td>1959</td>\n      <td>Graduation</td>\n      <td>Together</td>\n      <td>78235.2</td>\n      <td>0</td>\n      <td>2</td>\n      <td>25-07-2013</td>\n      <td>41</td>\n      <td>2</td>\n      <td>7</td>\n      <td>6</td>\n      <td>11</td>\n      <td>748</td>\n      <td>22</td>\n      <td>181</td>\n      <td>12</td>\n      <td>0</td>\n      <td>200</td>\n      <td>5</td>\n      <td>1</td>\n      <td>0</td>\n      <td>0</td>\n      <td>0</td>\n      <td>0</td>\n      <td>0</td>\n    </tr>\n  </tbody>\n</table>\n</div>",
                        "text/plain": "            ID  Year_of_Birth Education_Level Marital_Status  \\\n0  ID_ZPMABNVX           1954      Graduation         Single   \n1  ID_WFE91NAA           1961      Graduation          Widow   \n2  ID_JV11RBRK           1973           Basic        Married   \n3  ID_6B7SVKY9           1970      Graduation       Together   \n4  ID_GOVUZ545           1959      Graduation       Together   \n\n   Disposable_Income  No_of_Kids_in_home  No_of_Teen_in_home Date_Customer  \\\n0            48556.8                   0                   1    11-01-2013   \n1            57499.2                   0                   1    22-11-2012   \n2            17025.6                   0                   0    28-02-2013   \n3            91983.6                   0                   0    16-08-2013   \n4            78235.2                   0                   2    25-07-2013   \n\n   Recency  Discounted_Purchases  WebPurchases  CatalogPurchases  \\\n0       85                     6             8                 2   \n1       79                     5             7                 4   \n2       47                     1             2                 0   \n3       98                     1             4                 7   \n4       41                     2             7                 6   \n\n   StorePurchases  Amount_on_Wines  Amount_on_Fruits  Amount_on_MeatProducts  \\\n0               8              429                20                     118   \n1               6              510                 3                      26   \n2               4                7                10                      11   \n3              11              741                66                     946   \n4              11              748                22                     181   \n\n   Amount_on_FishProducts  Amount_on_SweetProducts  Amount_on_GoldProds  \\\n0                       7                       23                   41   \n1                       0                        0                   75   \n2                      16                       12                   27   \n3                     219                      189                  126   \n4                      12                        0                  200   \n\n   WebVisitsMonth  Cmp3Accepted  Cmp4Accepted  Cmp5Accepted  Cmp1Accepted  \\\n0               8             0             0             0             0   \n1               6             0             1             0             0   \n2               6             0             0             0             0   \n3               2             0             0             1             1   \n4               5             1             0             0             0   \n\n   Cmp2Accepted  Any_Complain  \n0             0             0  \n1             0             0  \n2             0             0  \n3             0             0  \n4             0             0  "
                    },
                    "execution_count": 24,
                    "metadata": {},
                    "output_type": "execute_result"
                }
            ],
            "source": "\nbody = client_02094e32b66a4036b212117f2460105b.get_object(Bucket='dsproject101-donotdelete-pr-ceaqlie47lhea1',Key='DSN 2021 AI Bootcamp Qualification Hackathon Test.csv')['Body']\n# add missing __iter__ method, so pandas accepts body as file-like object\nif not hasattr(body, \"__iter__\"): body.__iter__ = types.MethodType( __iter__, body )\n\ntest = pd.read_csv(body)\ntest.head()\n"
        },
        {
            "cell_type": "code",
            "execution_count": 25,
            "metadata": {},
            "outputs": [
                {
                    "data": {
                        "text/plain": "(672, 14)"
                    },
                    "execution_count": 25,
                    "metadata": {},
                    "output_type": "execute_result"
                }
            ],
            "source": "test1 = test[['Marital_Status','Disposable_Income','WebPurchases','CatalogPurchases','StorePurchases','Recency','Amount_on_GoldProds','Cmp1Accepted','Cmp2Accepted','Cmp3Accepted','Cmp4Accepted','Cmp5Accepted','Any_Complain','Education_Level']]\ntest1.shape"
        },
        {
            "cell_type": "code",
            "execution_count": 29,
            "metadata": {},
            "outputs": [
                {
                    "data": {
                        "text/plain": "(672, 23)"
                    },
                    "execution_count": 29,
                    "metadata": {},
                    "output_type": "execute_result"
                }
            ],
            "source": "#test1 = pd.concat([test1,pd.get_dummies(test1['Marital_Status'])], axis=1)\n#test1 = pd.concat([test1,pd.get_dummies(test1['Education_Level'])], axis=1)\n#test1.drop(\"Marital_Status\", axis = 1, inplace=True)\n#test1.drop(\"Education_Level\", axis = 1, inplace=True)\ntest1.shape"
        },
        {
            "cell_type": "code",
            "execution_count": 32,
            "metadata": {},
            "outputs": [],
            "source": "#mean = 62381\ntest1['Disposable_Income'].replace(np.nan, mean, inplace=True)"
        },
        {
            "cell_type": "code",
            "execution_count": 33,
            "metadata": {
                "scrolled": true
            },
            "outputs": [],
            "source": "XX = test1\nXX= preprocessing.StandardScaler().fit(XX).transform(XX)"
        },
        {
            "cell_type": "markdown",
            "metadata": {},
            "source": "# Predicting main test data"
        },
        {
            "cell_type": "code",
            "execution_count": 34,
            "metadata": {},
            "outputs": [],
            "source": "MyLady2 = KNeighborsClassifier(n_neighbors = 22).fit(X,y)\nyhat22=MyLady2.predict(XX)\n"
        },
        {
            "cell_type": "code",
            "execution_count": 39,
            "metadata": {},
            "outputs": [],
            "source": "MyLady3 = KNeighborsClassifier(n_neighbors = 39).fit(X,y)\nyhat33=MyLady2.predict(XX)"
        },
        {
            "cell_type": "code",
            "execution_count": null,
            "metadata": {},
            "outputs": [],
            "source": "MyLady1 = KNeighborsClassifier(n_neighbors = 22).fit(X_train1,y_train1)\nyhat11=MyLady1.predict(XX)"
        },
        {
            "cell_type": "code",
            "execution_count": 35,
            "metadata": {},
            "outputs": [],
            "source": "# The code was removed by Watson Studio for sharing."
        },
        {
            "cell_type": "code",
            "execution_count": 37,
            "metadata": {
                "collapsed": true
            },
            "outputs": [
                {
                    "data": {
                        "text/html": "<div>\n<style scoped>\n    .dataframe tbody tr th:only-of-type {\n        vertical-align: middle;\n    }\n\n    .dataframe tbody tr th {\n        vertical-align: top;\n    }\n\n    .dataframe thead th {\n        text-align: right;\n    }\n</style>\n<table border=\"1\" class=\"dataframe\">\n  <thead>\n    <tr style=\"text-align: right;\">\n      <th></th>\n      <th>ID</th>\n      <th>target</th>\n    </tr>\n  </thead>\n  <tbody>\n    <tr>\n      <th>0</th>\n      <td>ID_ZPMABNVX</td>\n      <td>0</td>\n    </tr>\n    <tr>\n      <th>1</th>\n      <td>ID_WFE91NAA</td>\n      <td>0</td>\n    </tr>\n    <tr>\n      <th>2</th>\n      <td>ID_JV11RBRK</td>\n      <td>0</td>\n    </tr>\n    <tr>\n      <th>3</th>\n      <td>ID_6B7SVKY9</td>\n      <td>0</td>\n    </tr>\n    <tr>\n      <th>4</th>\n      <td>ID_GOVUZ545</td>\n      <td>0</td>\n    </tr>\n    <tr>\n      <th>5</th>\n      <td>ID_A3SFW973</td>\n      <td>0</td>\n    </tr>\n    <tr>\n      <th>6</th>\n      <td>ID_HERGG0GD</td>\n      <td>0</td>\n    </tr>\n    <tr>\n      <th>7</th>\n      <td>ID_S36UV4BY</td>\n      <td>0</td>\n    </tr>\n    <tr>\n      <th>8</th>\n      <td>ID_9E10P1ZZ</td>\n      <td>0</td>\n    </tr>\n    <tr>\n      <th>9</th>\n      <td>ID_2840OCS5</td>\n      <td>0</td>\n    </tr>\n    <tr>\n      <th>10</th>\n      <td>ID_JCTOSHNK</td>\n      <td>0</td>\n    </tr>\n    <tr>\n      <th>11</th>\n      <td>ID_9LLVM41O</td>\n      <td>0</td>\n    </tr>\n    <tr>\n      <th>12</th>\n      <td>ID_TDCG3QVS</td>\n      <td>0</td>\n    </tr>\n    <tr>\n      <th>13</th>\n      <td>ID_2RE3UL3M</td>\n      <td>0</td>\n    </tr>\n    <tr>\n      <th>14</th>\n      <td>ID_62X1U1Q9</td>\n      <td>0</td>\n    </tr>\n    <tr>\n      <th>15</th>\n      <td>ID_79N73FHZ</td>\n      <td>0</td>\n    </tr>\n    <tr>\n      <th>16</th>\n      <td>ID_CUSB2F0K</td>\n      <td>0</td>\n    </tr>\n    <tr>\n      <th>17</th>\n      <td>ID_9EAC9BLH</td>\n      <td>0</td>\n    </tr>\n    <tr>\n      <th>18</th>\n      <td>ID_KQNSDF1S</td>\n      <td>0</td>\n    </tr>\n    <tr>\n      <th>19</th>\n      <td>ID_30PH2BQB</td>\n      <td>0</td>\n    </tr>\n    <tr>\n      <th>20</th>\n      <td>ID_1ROZENIZ</td>\n      <td>0</td>\n    </tr>\n    <tr>\n      <th>21</th>\n      <td>ID_14DP6I2K</td>\n      <td>0</td>\n    </tr>\n    <tr>\n      <th>22</th>\n      <td>ID_YBNSBULG</td>\n      <td>0</td>\n    </tr>\n    <tr>\n      <th>23</th>\n      <td>ID_EN6J3AN0</td>\n      <td>1</td>\n    </tr>\n    <tr>\n      <th>24</th>\n      <td>ID_YLNY205A</td>\n      <td>0</td>\n    </tr>\n    <tr>\n      <th>25</th>\n      <td>ID_JN69O071</td>\n      <td>1</td>\n    </tr>\n    <tr>\n      <th>26</th>\n      <td>ID_HMQNRSKW</td>\n      <td>0</td>\n    </tr>\n    <tr>\n      <th>27</th>\n      <td>ID_94W19YVD</td>\n      <td>0</td>\n    </tr>\n    <tr>\n      <th>28</th>\n      <td>ID_3QFCADD4</td>\n      <td>0</td>\n    </tr>\n    <tr>\n      <th>29</th>\n      <td>ID_7SQGAJEV</td>\n      <td>0</td>\n    </tr>\n  </tbody>\n</table>\n</div>",
                        "text/plain": "             ID  target\n0   ID_ZPMABNVX       0\n1   ID_WFE91NAA       0\n2   ID_JV11RBRK       0\n3   ID_6B7SVKY9       0\n4   ID_GOVUZ545       0\n5   ID_A3SFW973       0\n6   ID_HERGG0GD       0\n7   ID_S36UV4BY       0\n8   ID_9E10P1ZZ       0\n9   ID_2840OCS5       0\n10  ID_JCTOSHNK       0\n11  ID_9LLVM41O       0\n12  ID_TDCG3QVS       0\n13  ID_2RE3UL3M       0\n14  ID_62X1U1Q9       0\n15  ID_79N73FHZ       0\n16  ID_CUSB2F0K       0\n17  ID_9EAC9BLH       0\n18  ID_KQNSDF1S       0\n19  ID_30PH2BQB       0\n20  ID_1ROZENIZ       0\n21  ID_14DP6I2K       0\n22  ID_YBNSBULG       0\n23  ID_EN6J3AN0       1\n24  ID_YLNY205A       0\n25  ID_JN69O071       1\n26  ID_HMQNRSKW       0\n27  ID_94W19YVD       0\n28  ID_3QFCADD4       0\n29  ID_7SQGAJEV       0"
                    },
                    "execution_count": 37,
                    "metadata": {},
                    "output_type": "execute_result"
                }
            ],
            "source": "testpred = {'ID': test['ID'], 'target': yhat22}\ntestpred = pd.DataFrame(testpred)\ntestpred.head(30)"
        },
        {
            "cell_type": "code",
            "execution_count": 40,
            "metadata": {},
            "outputs": [
                {
                    "data": {
                        "text/html": "<div>\n<style scoped>\n    .dataframe tbody tr th:only-of-type {\n        vertical-align: middle;\n    }\n\n    .dataframe tbody tr th {\n        vertical-align: top;\n    }\n\n    .dataframe thead th {\n        text-align: right;\n    }\n</style>\n<table border=\"1\" class=\"dataframe\">\n  <thead>\n    <tr style=\"text-align: right;\">\n      <th></th>\n      <th>ID</th>\n      <th>target</th>\n    </tr>\n  </thead>\n  <tbody>\n    <tr>\n      <th>0</th>\n      <td>ID_ZPMABNVX</td>\n      <td>0</td>\n    </tr>\n    <tr>\n      <th>1</th>\n      <td>ID_WFE91NAA</td>\n      <td>0</td>\n    </tr>\n    <tr>\n      <th>2</th>\n      <td>ID_JV11RBRK</td>\n      <td>0</td>\n    </tr>\n    <tr>\n      <th>3</th>\n      <td>ID_6B7SVKY9</td>\n      <td>0</td>\n    </tr>\n    <tr>\n      <th>4</th>\n      <td>ID_GOVUZ545</td>\n      <td>0</td>\n    </tr>\n  </tbody>\n</table>\n</div>",
                        "text/plain": "            ID  target\n0  ID_ZPMABNVX       0\n1  ID_WFE91NAA       0\n2  ID_JV11RBRK       0\n3  ID_6B7SVKY9       0\n4  ID_GOVUZ545       0"
                    },
                    "execution_count": 40,
                    "metadata": {},
                    "output_type": "execute_result"
                }
            ],
            "source": "testpred1 = {'ID': test['ID'], 'target': yhat33}\ntestpred1 = pd.DataFrame(testpred1)\ntestpred.head()"
        },
        {
            "cell_type": "code",
            "execution_count": 38,
            "metadata": {},
            "outputs": [
                {
                    "data": {
                        "text/plain": "{'file_name': 'Hack3.csv',\n 'message': 'File saved to project storage.',\n 'bucket_name': 'dsproject101-donotdelete-pr-ceaqlie47lhea1',\n 'asset_id': 'fa702510-0f8b-47e8-b18c-01563d5bbd5e'}"
                    },
                    "execution_count": 38,
                    "metadata": {},
                    "output_type": "execute_result"
                }
            ],
            "source": "project.save_data(file_name = \"Hack3.csv\",data = testpred.to_csv(index=False))"
        },
        {
            "cell_type": "code",
            "execution_count": 41,
            "metadata": {},
            "outputs": [
                {
                    "data": {
                        "text/plain": "{'file_name': 'Hack4.csv',\n 'message': 'File saved to project storage.',\n 'bucket_name': 'dsproject101-donotdelete-pr-ceaqlie47lhea1',\n 'asset_id': '3a25d5b0-c5a7-4e6d-811d-d2d0f287f281'}"
                    },
                    "execution_count": 41,
                    "metadata": {},
                    "output_type": "execute_result"
                }
            ],
            "source": "project.save_data(file_name = \"Hack4.csv\",data = testpred1.to_csv(index=False))"
        },
        {
            "cell_type": "code",
            "execution_count": null,
            "metadata": {},
            "outputs": [],
            "source": ""
        }
    ],
    "metadata": {
        "kernelspec": {
            "display_name": "Python 3.8",
            "language": "python",
            "name": "python3"
        },
        "language_info": {
            "codemirror_mode": {
                "name": "ipython",
                "version": 3
            },
            "file_extension": ".py",
            "mimetype": "text/x-python",
            "name": "python",
            "nbconvert_exporter": "python",
            "pygments_lexer": "ipython3",
            "version": "3.8.11"
        }
    },
    "nbformat": 4,
    "nbformat_minor": 1
}